{
 "cells": [
  {
   "cell_type": "code",
   "execution_count": 1,
   "metadata": {
    "collapsed": false
   },
   "outputs": [],
   "source": [
    "from pyspark.sql import SparkSession\n",
    "from pyspark.sql.functions import explode, split, trim, regexp_replace, lower, concat, lit\n",
    "from pyspark.sql.types import StructType, StructField, StringType, IntegerType\n",
    "import pandas as pd\n",
    "\n",
    "import os\n",
    "from pathlib import Path\n",
    "\n",
    "project_dir = Path(os.getcwd()).parent\n",
    "data_dir = project_dir / 'data'\n",
    "raw_data_dir = data_dir / 'raw'\n",
    "cleaned_data_dir = data_dir / 'cleaned'"
   ]
  },
  {
   "attachments": {},
   "cell_type": "markdown",
   "metadata": {},
   "source": [
    "## Data Wrangling"
   ]
  },
  {
   "cell_type": "code",
   "execution_count": 2,
   "metadata": {},
   "outputs": [
    {
     "name": "stdout",
     "output_type": "stream",
     "text": [
      "File Name \t\t\t\t Size in GB\n",
      "yelp_academic_dataset_business.json  \t 0.12 GB\n",
      "yelp_academic_dataset_checkin.json  \t 0.29 GB\n",
      "yelp_academic_dataset_review.json  \t 5.34 GB\n",
      "yelp_academic_dataset_tip.json  \t 0.18 GB\n",
      "yelp_academic_dataset_user.json  \t 3.36 GB\n"
     ]
    }
   ],
   "source": [
    "print(\"File Name\", '\\t\\t\\t\\t', 'Size in GB')\n",
    "for file in raw_data_dir.glob('*.json'):\n",
    "    print(file.name, ' \\t', round(os.path.getsize(file) / 1e9, 2), 'GB')"
   ]
  },
  {
   "cell_type": "code",
   "execution_count": 3,
   "metadata": {},
   "outputs": [],
   "source": [
    "# Create a SparkSession object with the desired configuration options\n",
    "spark = SparkSession.builder \\\n",
    "    .appName(\"YelpDataEda\") \\\n",
    "    .master(\"local[*]\") \\\n",
    "    .config(\"spark.driver.memory\", \"2g\") \\\n",
    "    .config(\"spark.executor.memory\", \"2g\") \\\n",
    "    .config(\"spark.executor.cores\", \"2\") \\\n",
    "    .config(\"spark.driver.maxResultSize\", \"1g\") \\\n",
    "    .getOrCreate()"
   ]
  },
  {
   "attachments": {},
   "cell_type": "markdown",
   "metadata": {},
   "source": [
    "### Wrangling Businesses Data (yelp_academic_dataset_business.json)"
   ]
  },
  {
   "cell_type": "code",
   "execution_count": 4,
   "metadata": {},
   "outputs": [],
   "source": [
    "business_schema = StructType([\n",
    "    StructField(\"business_id\", StringType(), True),\n",
    "    StructField(\"name\", StringType(), True),\n",
    "    StructField(\"address\", StringType(), True),\n",
    "    StructField(\"city\", StringType(), True),\n",
    "    StructField(\"state\", StringType(), True),\n",
    "    StructField(\"postal_code\", StringType(), True),\n",
    "    StructField(\"latitude\", StringType(), True),\n",
    "    StructField(\"longitude\", StringType(), True),\n",
    "    StructField(\"stars\", StringType(), True),\n",
    "    StructField(\"review_count\", IntegerType(), True),\n",
    "    StructField(\"is_open\", IntegerType(), True),\n",
    "    StructField(\"categories\", StringType(), True),\n",
    "    StructField(\"attributes\", StructType([\n",
    "        StructField(\"Alcohol\", StringType(), True),\n",
    "        StructField(\"Ambience\", StructType([\n",
    "            StructField(\"casual\", StringType(), True),\n",
    "            StructField(\"classy\", StringType(), True),\n",
    "            StructField(\"divey\", StringType(), True),\n",
    "            StructField(\"hipster\", StringType(), True),\n",
    "            StructField(\"intimate\", StringType(), True),\n",
    "            StructField(\"romantic\", StringType(), True),\n",
    "            StructField(\"touristy\", StringType(), True),\n",
    "            StructField(\"trendy\", StringType(), True),\n",
    "            StructField(\"upscale\", StringType(), True)\n",
    "        ]), True),\n",
    "        StructField(\"BikeParking\", StringType(), True),\n",
    "        StructField(\"BusinessAcceptsCreditCards\", StringType(), True),\n",
    "        StructField(\"BusinessParking\", StructType([\n",
    "            StructField(\"garage\", StringType(), True),\n",
    "            StructField(\"lot\", StringType(), True),\n",
    "            StructField(\"street\", StringType(), True),\n",
    "            StructField(\"valet\", StringType(), True)\n",
    "        ]), True),\n",
    "        StructField(\"GoodForKids\", StringType(), True),\n",
    "        StructField(\"HasTV\", StringType(), True),\n",
    "        StructField(\"NoiseLevel\", StringType(), True),\n",
    "        StructField(\"OutdoorSeating\", StringType(), True),\n",
    "        StructField(\"RestaurantsAttire\", StringType(), True),\n",
    "        StructField(\"RestaurantsDelivery\", StringType(), True),\n",
    "        StructField(\"RestaurantsGoodForGroups\", StringType(), True),\n",
    "        StructField(\"RestaurantsPriceRange2\", StringType(), True),\n",
    "        StructField(\"RestaurantsReservations\", StringType(), True),\n",
    "        StructField(\"RestaurantsTakeOut\", StringType(), True),\n",
    "        StructField(\"WiFi\", StringType(), True)\n",
    "    ]), True),\n",
    "    StructField(\"hours\", StructType([\n",
    "        StructField(\"Monday\", StringType(), True),\n",
    "        StructField(\"Tuesday\", StringType(), True),\n",
    "        StructField(\"Wednesday\", StringType(), True),\n",
    "        StructField(\"Thursday\", StringType(), True),\n",
    "        StructField(\"Friday\", StringType(), True),\n",
    "        StructField(\"Saturday\", StringType(), True),\n",
    "        StructField(\"Sunday\", StringType(), True)\n",
    "    ]), True)\n",
    "])"
   ]
  },
  {
   "cell_type": "code",
   "execution_count": 5,
   "metadata": {},
   "outputs": [],
   "source": [
    "business_df = spark.read.json(str(raw_data_dir / 'yelp_academic_dataset_business.json'), schema=business_schema)"
   ]
  },
  {
   "cell_type": "code",
   "execution_count": 6,
   "metadata": {},
   "outputs": [],
   "source": [
    "# Sample of the business_df\n",
    "# business_df = business_df.sample(False, 0.01)"
   ]
  },
  {
   "cell_type": "code",
   "execution_count": 7,
   "metadata": {},
   "outputs": [],
   "source": [
    "# Extract attributes\n",
    "business_df = business_df.withColumn(\"attr_alcohol\", business_df.attributes.Alcohol) \\\n",
    "       .withColumn(\"attr_bike_parking\", business_df.attributes.BikeParking) \\\n",
    "       .withColumn(\"attr_business_accepts_credit_cards\", business_df.attributes.BusinessAcceptsCreditCards) \\\n",
    "       .withColumn(\"attr_good_for_kids\", business_df.attributes.GoodforKids) \\\n",
    "       .withColumn(\"attr_has_tv\", business_df.attributes.HasTV) \\\n",
    "       .withColumn(\"attr_noise_level\", business_df.attributes.NoiseLevel) \\\n",
    "       .withColumn(\"attr_outdoor_seating\", business_df.attributes.OutdoorSeating) \\\n",
    "       .withColumn(\"attr_restaurants_attire\", business_df.attributes.RestaurantsAttire) \\\n",
    "       .withColumn(\"attr_restaurants_delivery\", business_df.attributes.RestaurantsDelivery) \\\n",
    "       .withColumn(\"attr_restaurants_good_for_groups\", business_df.attributes.RestaurantsGoodforGroups) \\\n",
    "       .withColumn(\"attr_restaurants_price_range2\", business_df.attributes.RestaurantsPriceRange2) \\\n",
    "       .withColumn(\"attr_restaurants_reservations\", business_df.attributes.RestaurantsReservations) \\\n",
    "       .withColumn(\"attr_restaurants_takeout\", business_df.attributes.RestaurantsTakeOut) \\\n",
    "       .withColumn(\"attr_wifi\", business_df.attributes.WiFi) \\\n",
    "       .withColumn(\"attr_ambience_casual\", business_df.attributes.Ambience.casual) \\\n",
    "       .withColumn(\"attr_ambience_classy\", business_df.attributes.Ambience.classy) \\\n",
    "       .withColumn(\"attr_ambience_divey\", business_df.attributes.Ambience.divey) \\\n",
    "       .withColumn(\"attr_ambience_hipster\", business_df.attributes.Ambience.hipster) \\\n",
    "       .withColumn(\"attr_ambience_intimate\", business_df.attributes.Ambience.intimate) \\\n",
    "       .withColumn(\"attr_ambience_romantic\", business_df.attributes.Ambience.romantic) \\\n",
    "       .withColumn(\"attr_ambience_touristy\", business_df.attributes.Ambience.touristy) \\\n",
    "       .withColumn(\"attr_ambience_trendy\", business_df.attributes.Ambience.trendy) \\\n",
    "       .withColumn(\"attr_ambience_upscale\", business_df.attributes.Ambience.upscale) \\\n",
    "       .withColumn(\"attr_business_parking_garage\", business_df.attributes.BusinessParking.garage) \\\n",
    "       .withColumn(\"attr_business_parking_lot\", business_df.attributes.BusinessParking.lot) \\\n",
    "       .withColumn(\"attr_business_parking_street\", business_df.attributes.BusinessParking.street) \\\n",
    "       .withColumn(\"attr_business_parking_valet\", business_df.attributes.BusinessParking.valet)\n",
    "\n",
    "# Extract hours\n",
    "business_df = business_df.withColumn(\"hours_monday\", business_df.hours.Monday) \\\n",
    "       .withColumn(\"hours_tuesday\", business_df.hours.Tuesday) \\\n",
    "       .withColumn(\"hours_wednesday\", business_df.hours.Wednesday) \\\n",
    "       .withColumn(\"hours_thursday\", business_df.hours.Thursday) \\\n",
    "       .withColumn(\"hours_friday\", business_df.hours.Friday) \\\n",
    "       .withColumn(\"hours_saturday\", business_df.hours.Saturday) \\\n",
    "       .withColumn(\"hours_sunday\", business_df.hours.Sunday)\n",
    "\n",
    "# Drop original nested columns\n",
    "business_df = business_df.drop(\"attributes\", \"hours\")"
   ]
  },
  {
   "cell_type": "code",
   "execution_count": 8,
   "metadata": {},
   "outputs": [
    {
     "name": "stdout",
     "output_type": "stream",
     "text": [
      "+----------------------------------------------------------------------------------------------------------+\n",
      "|categories                                                                                                |\n",
      "+----------------------------------------------------------------------------------------------------------+\n",
      "|Doctors, Traditional Chinese Medicine, Naturopathic/Holistic, Acupuncture, Health & Medical, Nutritionists|\n",
      "|Shipping Centers, Local Services, Notaries, Mailbox Centers, Printing Services                            |\n",
      "|Department Stores, Shopping, Fashion, Home & Garden, Electronics, Furniture Stores                        |\n",
      "|Restaurants, Food, Bubble Tea, Coffee & Tea, Bakeries                                                     |\n",
      "|Brewpubs, Breweries, Food                                                                                 |\n",
      "+----------------------------------------------------------------------------------------------------------+\n",
      "only showing top 5 rows\n",
      "\n"
     ]
    }
   ],
   "source": [
    "# Long-form to Wide-form on categories column\n",
    "business_df.select(\"categories\").show(5, False) # Current categories column"
   ]
  },
  {
   "cell_type": "code",
   "execution_count": 9,
   "metadata": {},
   "outputs": [],
   "source": [
    "business_df = business_df.withColumn(\"category\", split(\"categories\", \", \"))\n",
    "\n",
    "# Explode categories column\n",
    "exploded_categories = business_df.select(\"business_id\", \"category\", \"categories\").withColumn(\"category\", explode(\"category\"))\n",
    "exploded_categories = exploded_categories.withColumn(\"category\", regexp_replace(\"category\", \"&\", \" \"))\n",
    "exploded_categories = exploded_categories.withColumn(\"category\", regexp_replace(\"category\", \" +\", \" \"))\n",
    "exploded_categories = exploded_categories.withColumn(\"category\", regexp_replace(\"category\", \" \", \"_\"))\n",
    "exploded_categories = exploded_categories.withColumn(\"category\", regexp_replace(\"category\", \"-\", \"_\"))\n",
    "exploded_categories = exploded_categories.withColumn(\"category\", regexp_replace(\"category\", \"_+\", \"_\"))\n",
    "exploded_categories = exploded_categories.withColumn(\"category\", regexp_replace(\"category\", \"'\", \"\"))\n",
    "exploded_categories = exploded_categories.withColumn(\"category\", regexp_replace(\"category\", \"&\", \"and\"))\n",
    "exploded_categories = exploded_categories.withColumn(\"category\", regexp_replace(\"category\", \"/\", \"_or_\"))\n",
    "exploded_categories = exploded_categories.withColumn(\"category\", regexp_replace(\"category\", \"\\(\", \"\"))\n",
    "exploded_categories = exploded_categories.withColumn(\"category\", regexp_replace(\"category\", \"\\)\", \"\"))\n",
    "exploded_categories = exploded_categories.withColumn(\"category\", trim(\"category\"))\n",
    "exploded_categories = exploded_categories.withColumn(\"category\", lower(\"category\"))\n",
    "exploded_categories = exploded_categories.withColumn(\"category\", concat(lit(\"cat_\"), exploded_categories.category))"
   ]
  },
  {
   "cell_type": "code",
   "execution_count": 10,
   "metadata": {},
   "outputs": [
    {
     "name": "stdout",
     "output_type": "stream",
     "text": [
      "+----------------------+--------------------------------+----------------------------------------------------------------------------------------------------------+\n",
      "|business_id           |category                        |categories                                                                                                |\n",
      "+----------------------+--------------------------------+----------------------------------------------------------------------------------------------------------+\n",
      "|Pns2l4eNsfO8kk83dixA6A|cat_doctors                     |Doctors, Traditional Chinese Medicine, Naturopathic/Holistic, Acupuncture, Health & Medical, Nutritionists|\n",
      "|Pns2l4eNsfO8kk83dixA6A|cat_traditional_chinese_medicine|Doctors, Traditional Chinese Medicine, Naturopathic/Holistic, Acupuncture, Health & Medical, Nutritionists|\n",
      "|Pns2l4eNsfO8kk83dixA6A|cat_naturopathic_or_holistic    |Doctors, Traditional Chinese Medicine, Naturopathic/Holistic, Acupuncture, Health & Medical, Nutritionists|\n",
      "|Pns2l4eNsfO8kk83dixA6A|cat_acupuncture                 |Doctors, Traditional Chinese Medicine, Naturopathic/Holistic, Acupuncture, Health & Medical, Nutritionists|\n",
      "|Pns2l4eNsfO8kk83dixA6A|cat_health_medical              |Doctors, Traditional Chinese Medicine, Naturopathic/Holistic, Acupuncture, Health & Medical, Nutritionists|\n",
      "|Pns2l4eNsfO8kk83dixA6A|cat_nutritionists               |Doctors, Traditional Chinese Medicine, Naturopathic/Holistic, Acupuncture, Health & Medical, Nutritionists|\n",
      "|mpf3x-BjTdTEA3yCZrAYPw|cat_shipping_centers            |Shipping Centers, Local Services, Notaries, Mailbox Centers, Printing Services                            |\n",
      "|mpf3x-BjTdTEA3yCZrAYPw|cat_local_services              |Shipping Centers, Local Services, Notaries, Mailbox Centers, Printing Services                            |\n",
      "|mpf3x-BjTdTEA3yCZrAYPw|cat_notaries                    |Shipping Centers, Local Services, Notaries, Mailbox Centers, Printing Services                            |\n",
      "|mpf3x-BjTdTEA3yCZrAYPw|cat_mailbox_centers             |Shipping Centers, Local Services, Notaries, Mailbox Centers, Printing Services                            |\n",
      "+----------------------+--------------------------------+----------------------------------------------------------------------------------------------------------+\n",
      "only showing top 10 rows\n",
      "\n"
     ]
    }
   ],
   "source": [
    "exploded_categories.select(\"business_id\", \"category\", \"categories\").show(10, False) # Exploded categories column"
   ]
  },
  {
   "cell_type": "code",
   "execution_count": 11,
   "metadata": {},
   "outputs": [],
   "source": [
    "# Pivot the resulting rows into columns\n",
    "pivoted_df = exploded_categories.groupBy(\"business_id\").pivot(\"category\").count().na.fill(0) \\\n",
    "\n",
    "# Join the pivoted DataFrame back to the original DataFrame\n",
    "joined_df = business_df.join(pivoted_df, \"business_id\", \"left\") \\\n",
    "    .drop(\"categories\", \"category\")"
   ]
  },
  {
   "cell_type": "code",
   "execution_count": 12,
   "metadata": {},
   "outputs": [
    {
     "data": {
      "text/plain": [
       "(150346, 150346)"
      ]
     },
     "execution_count": 12,
     "metadata": {},
     "output_type": "execute_result"
    }
   ],
   "source": [
    "business_pdf = joined_df.toPandas()\n",
    "\n",
    "# Checks to see if rows count match\n",
    "(business_df.count(), business_pdf.shape[0])"
   ]
  },
  {
   "cell_type": "code",
   "execution_count": 13,
   "metadata": {},
   "outputs": [
    {
     "data": {
      "text/html": [
       "<div>\n",
       "<style scoped>\n",
       "    .dataframe tbody tr th:only-of-type {\n",
       "        vertical-align: middle;\n",
       "    }\n",
       "\n",
       "    .dataframe tbody tr th {\n",
       "        vertical-align: top;\n",
       "    }\n",
       "\n",
       "    .dataframe thead th {\n",
       "        text-align: right;\n",
       "    }\n",
       "</style>\n",
       "<table border=\"1\" class=\"dataframe\">\n",
       "  <thead>\n",
       "    <tr style=\"text-align: right;\">\n",
       "      <th></th>\n",
       "      <th>business_id</th>\n",
       "      <th>name</th>\n",
       "      <th>address</th>\n",
       "      <th>city</th>\n",
       "      <th>state</th>\n",
       "      <th>postal_code</th>\n",
       "      <th>latitude</th>\n",
       "      <th>longitude</th>\n",
       "      <th>stars</th>\n",
       "      <th>review_count</th>\n",
       "      <th>...</th>\n",
       "      <th>cat_wine_tasting_room</th>\n",
       "      <th>cat_wine_tours</th>\n",
       "      <th>cat_wineries</th>\n",
       "      <th>cat_womens_clothing</th>\n",
       "      <th>cat_workers_compensation_law</th>\n",
       "      <th>cat_wraps</th>\n",
       "      <th>cat_yelp_events</th>\n",
       "      <th>cat_yoga</th>\n",
       "      <th>cat_ziplining</th>\n",
       "      <th>cat_zoos</th>\n",
       "    </tr>\n",
       "  </thead>\n",
       "  <tbody>\n",
       "    <tr>\n",
       "      <th>0</th>\n",
       "      <td>---kPU91CF4Lq2-WlRu9Lw</td>\n",
       "      <td>Frankie's Raw Bar</td>\n",
       "      <td>4903 State Rd 54</td>\n",
       "      <td>New Port Richey</td>\n",
       "      <td>FL</td>\n",
       "      <td>34652</td>\n",
       "      <td>28.2172884</td>\n",
       "      <td>-82.7333444</td>\n",
       "      <td>4.5</td>\n",
       "      <td>24</td>\n",
       "      <td>...</td>\n",
       "      <td>0.0</td>\n",
       "      <td>0.0</td>\n",
       "      <td>0.0</td>\n",
       "      <td>0.0</td>\n",
       "      <td>0.0</td>\n",
       "      <td>0.0</td>\n",
       "      <td>0.0</td>\n",
       "      <td>0.0</td>\n",
       "      <td>0.0</td>\n",
       "      <td>0.0</td>\n",
       "    </tr>\n",
       "    <tr>\n",
       "      <th>1</th>\n",
       "      <td>--LC8cIrALInl2vyo701tg</td>\n",
       "      <td>Studio G Salon</td>\n",
       "      <td>6537 Gunn Hwy</td>\n",
       "      <td>Tampa</td>\n",
       "      <td>FL</td>\n",
       "      <td>33625</td>\n",
       "      <td>28.0658857</td>\n",
       "      <td>-82.5593005</td>\n",
       "      <td>5.0</td>\n",
       "      <td>8</td>\n",
       "      <td>...</td>\n",
       "      <td>0.0</td>\n",
       "      <td>0.0</td>\n",
       "      <td>0.0</td>\n",
       "      <td>0.0</td>\n",
       "      <td>0.0</td>\n",
       "      <td>0.0</td>\n",
       "      <td>0.0</td>\n",
       "      <td>0.0</td>\n",
       "      <td>0.0</td>\n",
       "      <td>0.0</td>\n",
       "    </tr>\n",
       "    <tr>\n",
       "      <th>2</th>\n",
       "      <td>--gJkxbsiSIwsQKbiwm_Ng</td>\n",
       "      <td>Salon Lofts - West Kennedy</td>\n",
       "      <td>4545 W Kennedy Blvd</td>\n",
       "      <td>Tampa</td>\n",
       "      <td>FL</td>\n",
       "      <td>33609</td>\n",
       "      <td>27.9451223</td>\n",
       "      <td>-82.5210814</td>\n",
       "      <td>5.0</td>\n",
       "      <td>6</td>\n",
       "      <td>...</td>\n",
       "      <td>0.0</td>\n",
       "      <td>0.0</td>\n",
       "      <td>0.0</td>\n",
       "      <td>0.0</td>\n",
       "      <td>0.0</td>\n",
       "      <td>0.0</td>\n",
       "      <td>0.0</td>\n",
       "      <td>0.0</td>\n",
       "      <td>0.0</td>\n",
       "      <td>0.0</td>\n",
       "    </tr>\n",
       "    <tr>\n",
       "      <th>3</th>\n",
       "      <td>--hF_3v1JmU9nlu4zfXJ8Q</td>\n",
       "      <td>Green District Salads - Monument Circle</td>\n",
       "      <td>28 Monument Cir</td>\n",
       "      <td>Indianapolis</td>\n",
       "      <td>IN</td>\n",
       "      <td>46204</td>\n",
       "      <td>39.7678876</td>\n",
       "      <td>-86.1583509</td>\n",
       "      <td>4.5</td>\n",
       "      <td>15</td>\n",
       "      <td>...</td>\n",
       "      <td>0.0</td>\n",
       "      <td>0.0</td>\n",
       "      <td>0.0</td>\n",
       "      <td>0.0</td>\n",
       "      <td>0.0</td>\n",
       "      <td>1.0</td>\n",
       "      <td>0.0</td>\n",
       "      <td>0.0</td>\n",
       "      <td>0.0</td>\n",
       "      <td>0.0</td>\n",
       "    </tr>\n",
       "    <tr>\n",
       "      <th>4</th>\n",
       "      <td>--qLiYw2ErSmvVwumb2kdw</td>\n",
       "      <td>C.C.'s Kitchen</td>\n",
       "      <td>517 Station Ave</td>\n",
       "      <td>Haddon Heights</td>\n",
       "      <td>NJ</td>\n",
       "      <td>08035</td>\n",
       "      <td>39.8829629</td>\n",
       "      <td>-75.0580346</td>\n",
       "      <td>5.0</td>\n",
       "      <td>5</td>\n",
       "      <td>...</td>\n",
       "      <td>0.0</td>\n",
       "      <td>0.0</td>\n",
       "      <td>0.0</td>\n",
       "      <td>0.0</td>\n",
       "      <td>0.0</td>\n",
       "      <td>0.0</td>\n",
       "      <td>0.0</td>\n",
       "      <td>0.0</td>\n",
       "      <td>0.0</td>\n",
       "      <td>0.0</td>\n",
       "    </tr>\n",
       "  </tbody>\n",
       "</table>\n",
       "<p>5 rows × 1356 columns</p>\n",
       "</div>"
      ],
      "text/plain": [
       "              business_id                                     name  \\\n",
       "0  ---kPU91CF4Lq2-WlRu9Lw                        Frankie's Raw Bar   \n",
       "1  --LC8cIrALInl2vyo701tg                           Studio G Salon   \n",
       "2  --gJkxbsiSIwsQKbiwm_Ng               Salon Lofts - West Kennedy   \n",
       "3  --hF_3v1JmU9nlu4zfXJ8Q  Green District Salads - Monument Circle   \n",
       "4  --qLiYw2ErSmvVwumb2kdw                           C.C.'s Kitchen   \n",
       "\n",
       "               address             city state postal_code    latitude  \\\n",
       "0     4903 State Rd 54  New Port Richey    FL       34652  28.2172884   \n",
       "1        6537 Gunn Hwy            Tampa    FL       33625  28.0658857   \n",
       "2  4545 W Kennedy Blvd            Tampa    FL       33609  27.9451223   \n",
       "3      28 Monument Cir     Indianapolis    IN       46204  39.7678876   \n",
       "4      517 Station Ave   Haddon Heights    NJ       08035  39.8829629   \n",
       "\n",
       "     longitude stars  review_count  ...  cat_wine_tasting_room cat_wine_tours  \\\n",
       "0  -82.7333444   4.5            24  ...                    0.0            0.0   \n",
       "1  -82.5593005   5.0             8  ...                    0.0            0.0   \n",
       "2  -82.5210814   5.0             6  ...                    0.0            0.0   \n",
       "3  -86.1583509   4.5            15  ...                    0.0            0.0   \n",
       "4  -75.0580346   5.0             5  ...                    0.0            0.0   \n",
       "\n",
       "  cat_wineries cat_womens_clothing cat_workers_compensation_law cat_wraps  \\\n",
       "0          0.0                 0.0                          0.0       0.0   \n",
       "1          0.0                 0.0                          0.0       0.0   \n",
       "2          0.0                 0.0                          0.0       0.0   \n",
       "3          0.0                 0.0                          0.0       1.0   \n",
       "4          0.0                 0.0                          0.0       0.0   \n",
       "\n",
       "  cat_yelp_events cat_yoga cat_ziplining cat_zoos  \n",
       "0             0.0      0.0           0.0      0.0  \n",
       "1             0.0      0.0           0.0      0.0  \n",
       "2             0.0      0.0           0.0      0.0  \n",
       "3             0.0      0.0           0.0      0.0  \n",
       "4             0.0      0.0           0.0      0.0  \n",
       "\n",
       "[5 rows x 1356 columns]"
      ]
     },
     "metadata": {},
     "output_type": "display_data"
    }
   ],
   "source": [
    "display(business_pdf.head())\n",
    "business_pdf.to_csv(str(cleaned_data_dir / 'business.csv'), index=False)"
   ]
  },
  {
   "cell_type": "code",
   "execution_count": 14,
   "metadata": {},
   "outputs": [],
   "source": [
    "# Free up memory\n",
    "del business_pdf\n",
    "del business_df\n",
    "del joined_df\n",
    "del exploded_categories\n",
    "del pivoted_df"
   ]
  },
  {
   "attachments": {},
   "cell_type": "markdown",
   "metadata": {},
   "source": [
    "### Wrangling Review Data (yelp_academic_dataset_review.json)"
   ]
  },
  {
   "cell_type": "code",
   "execution_count": 15,
   "metadata": {},
   "outputs": [],
   "source": [
    "# Read the review data from JSON file chunk by chunk\n",
    "review_df = pd.read_json(str(raw_data_dir / 'yelp_academic_dataset_review.json'), lines=True, chunksize=1_000_000)"
   ]
  },
  {
   "cell_type": "code",
   "execution_count": 16,
   "metadata": {},
   "outputs": [
    {
     "name": "stdout",
     "output_type": "stream",
     "text": [
      "Processing chunk 1\n",
      "Processing chunk 2\n",
      "Processing chunk 3\n",
      "Processing chunk 4\n",
      "Processing chunk 5\n",
      "Processing chunk 6\n",
      "Processing chunk 7\n"
     ]
    }
   ],
   "source": [
    "# Save the review data to CSV file chunk by chunk\n",
    "for i, chunk in enumerate(review_df):\n",
    "    print(f'Processing chunk {i+1}')\n",
    "\n",
    "    if i == 0:\n",
    "        chunk.to_csv(str(cleaned_data_dir / 'review.csv'), mode='w', header=True, index=False)\n",
    "    else:\n",
    "        chunk.to_csv(str(cleaned_data_dir / 'review.csv'), mode='a', header=False, index=False)"
   ]
  },
  {
   "cell_type": "code",
   "execution_count": 17,
   "metadata": {},
   "outputs": [],
   "source": [
    "del review_df\n",
    "del chunk"
   ]
  },
  {
   "attachments": {},
   "cell_type": "markdown",
   "metadata": {},
   "source": [
    "### Wrangling User Data (yelp_academic_dataset_user.json)"
   ]
  },
  {
   "cell_type": "code",
   "execution_count": 18,
   "metadata": {},
   "outputs": [],
   "source": [
    "# Read the user data from JSON file chunk by chunk\n",
    "user_df = pd.read_json(str(raw_data_dir / 'yelp_academic_dataset_user.json'), lines=True, chunksize=1_000_000)"
   ]
  },
  {
   "cell_type": "code",
   "execution_count": 19,
   "metadata": {},
   "outputs": [
    {
     "name": "stdout",
     "output_type": "stream",
     "text": [
      "Processing chunk 1\n",
      "Processing chunk 2\n"
     ]
    }
   ],
   "source": [
    "# Save the user data to CSV file chunk by chunk\n",
    "for i, chunk in enumerate(user_df):\n",
    "    print(f'Processing chunk {i+1}')\n",
    "\n",
    "    if i == 0:\n",
    "        chunk.to_csv(str(cleaned_data_dir / 'user.csv'), mode='w', header=True, index=False)\n",
    "    else:\n",
    "        chunk.to_csv(str(cleaned_data_dir / 'user.csv'), mode='a', header=False, index=False)"
   ]
  },
  {
   "cell_type": "code",
   "execution_count": 20,
   "metadata": {},
   "outputs": [],
   "source": [
    "del user_df\n",
    "del chunk"
   ]
  }
 ],
 "metadata": {
  "kernelspec": {
   "display_name": "dsa-5900-_6tTJzrA-py3.10",
   "language": "python",
   "name": "python3"
  },
  "language_info": {
   "codemirror_mode": {
    "name": "ipython",
    "version": 3
   },
   "file_extension": ".py",
   "mimetype": "text/x-python",
   "name": "python",
   "nbconvert_exporter": "python",
   "pygments_lexer": "ipython3",
   "version": "3.10.4"
  },
  "vscode": {
   "interpreter": {
    "hash": "923fcee6bfc068f935f589b2e4ec895c04cdabbe96713c0144242392fd29fe27"
   }
  }
 },
 "nbformat": 4,
 "nbformat_minor": 0
}
