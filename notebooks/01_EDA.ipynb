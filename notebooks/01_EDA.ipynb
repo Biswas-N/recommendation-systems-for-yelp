{
 "cells": [
  {
   "cell_type": "code",
   "execution_count": null,
   "metadata": {
    "collapsed": false
   },
   "outputs": [],
   "source": [
    "from pyspark.sql import SparkSession\n",
    "from pyspark.sql.functions import explode, split, trim, regexp_replace, lower, concat, lit\n",
    "from pyspark.sql.types import StructType, StructField, StringType, IntegerType\n",
    "\n",
    "import os\n",
    "from pathlib import Path\n",
    "\n",
    "project_dir = Path(os.getcwd()).parent\n",
    "data_dir = project_dir / 'data'\n",
    "raw_data_dir = data_dir / 'raw'\n",
    "cleaned_data_dir = data_dir / 'cleaned'"
   ]
  },
  {
   "cell_type": "code",
   "execution_count": null,
   "metadata": {},
   "outputs": [],
   "source": [
    "print(\"File Name\", '\\t\\t\\t\\t', 'Size in GB')\n",
    "for file in raw_data_dir.glob('*.json'):\n",
    "    print(file.name, ' \\t', round(os.path.getsize(file) / 1e9, 2), 'GB')"
   ]
  },
  {
   "cell_type": "code",
   "execution_count": null,
   "metadata": {},
   "outputs": [],
   "source": [
    "spark = SparkSession.builder.appName('YelpDataEda').getOrCreate()"
   ]
  },
  {
   "attachments": {},
   "cell_type": "markdown",
   "metadata": {},
   "source": [
    "### Wrangling Businesses Data (yelp_academic_dataset_business.json)"
   ]
  },
  {
   "cell_type": "code",
   "execution_count": null,
   "metadata": {},
   "outputs": [],
   "source": [
    "business_schema = StructType([\n",
    "    StructField(\"business_id\", StringType(), True),\n",
    "    StructField(\"name\", StringType(), True),\n",
    "    StructField(\"address\", StringType(), True),\n",
    "    StructField(\"city\", StringType(), True),\n",
    "    StructField(\"state\", StringType(), True),\n",
    "    StructField(\"postal_code\", StringType(), True),\n",
    "    StructField(\"latitude\", StringType(), True),\n",
    "    StructField(\"longitude\", StringType(), True),\n",
    "    StructField(\"stars\", StringType(), True),\n",
    "    StructField(\"review_count\", IntegerType(), True),\n",
    "    StructField(\"is_open\", IntegerType(), True),\n",
    "    StructField(\"categories\", StringType(), True),\n",
    "    StructField(\"attributes\", StructType([\n",
    "        StructField(\"Alcohol\", StringType(), True),\n",
    "        StructField(\"Ambience\", StructType([\n",
    "            StructField(\"casual\", StringType(), True),\n",
    "            StructField(\"classy\", StringType(), True),\n",
    "            StructField(\"divey\", StringType(), True),\n",
    "            StructField(\"hipster\", StringType(), True),\n",
    "            StructField(\"intimate\", StringType(), True),\n",
    "            StructField(\"romantic\", StringType(), True),\n",
    "            StructField(\"touristy\", StringType(), True),\n",
    "            StructField(\"trendy\", StringType(), True),\n",
    "            StructField(\"upscale\", StringType(), True)\n",
    "        ]), True),\n",
    "        StructField(\"BikeParking\", StringType(), True),\n",
    "        StructField(\"BusinessAcceptsCreditCards\", StringType(), True),\n",
    "        StructField(\"BusinessParking\", StructType([\n",
    "            StructField(\"garage\", StringType(), True),\n",
    "            StructField(\"lot\", StringType(), True),\n",
    "            StructField(\"street\", StringType(), True),\n",
    "            StructField(\"valet\", StringType(), True)\n",
    "        ]), True),\n",
    "        StructField(\"GoodForKids\", StringType(), True),\n",
    "        StructField(\"HasTV\", StringType(), True),\n",
    "        StructField(\"NoiseLevel\", StringType(), True),\n",
    "        StructField(\"OutdoorSeating\", StringType(), True),\n",
    "        StructField(\"RestaurantsAttire\", StringType(), True),\n",
    "        StructField(\"RestaurantsDelivery\", StringType(), True),\n",
    "        StructField(\"RestaurantsGoodForGroups\", StringType(), True),\n",
    "        StructField(\"RestaurantsPriceRange2\", StringType(), True),\n",
    "        StructField(\"RestaurantsReservations\", StringType(), True),\n",
    "        StructField(\"RestaurantsTakeOut\", StringType(), True),\n",
    "        StructField(\"WiFi\", StringType(), True)\n",
    "    ]), True),\n",
    "    StructField(\"hours\", StructType([\n",
    "        StructField(\"Monday\", StringType(), True),\n",
    "        StructField(\"Tuesday\", StringType(), True),\n",
    "        StructField(\"Wednesday\", StringType(), True),\n",
    "        StructField(\"Thursday\", StringType(), True),\n",
    "        StructField(\"Friday\", StringType(), True),\n",
    "        StructField(\"Saturday\", StringType(), True),\n",
    "        StructField(\"Sunday\", StringType(), True)\n",
    "    ]), True)\n",
    "])"
   ]
  },
  {
   "cell_type": "code",
   "execution_count": null,
   "metadata": {},
   "outputs": [],
   "source": [
    "business_df = spark.read.json(str(raw_data_dir / 'yelp_academic_dataset_business.json'), schema=business_schema)"
   ]
  },
  {
   "cell_type": "code",
   "execution_count": null,
   "metadata": {},
   "outputs": [],
   "source": [
    "# Extract attributes\n",
    "business_df = business_df.withColumn(\"attr_alcohol\", business_df.attributes.Alcohol) \\\n",
    "       .withColumn(\"attr_bike_parking\", business_df.attributes.BikeParking) \\\n",
    "       .withColumn(\"attr_business_accepts_credit_cards\", business_df.attributes.BusinessAcceptsCreditCards) \\\n",
    "       .withColumn(\"attr_good_for_kids\", business_df.attributes.GoodforKids) \\\n",
    "       .withColumn(\"attr_has_tv\", business_df.attributes.HasTV) \\\n",
    "       .withColumn(\"attr_noise_level\", business_df.attributes.NoiseLevel) \\\n",
    "       .withColumn(\"attr_outdoor_seating\", business_df.attributes.OutdoorSeating) \\\n",
    "       .withColumn(\"attr_restaurants_attire\", business_df.attributes.RestaurantsAttire) \\\n",
    "       .withColumn(\"attr_restaurants_delivery\", business_df.attributes.RestaurantsDelivery) \\\n",
    "       .withColumn(\"attr_restaurants_good_for_groups\", business_df.attributes.RestaurantsGoodforGroups) \\\n",
    "       .withColumn(\"attr_restaurants_price_range2\", business_df.attributes.RestaurantsPriceRange2) \\\n",
    "       .withColumn(\"attr_restaurants_reservations\", business_df.attributes.RestaurantsReservations) \\\n",
    "       .withColumn(\"attr_restaurants_takeout\", business_df.attributes.RestaurantsTakeOut) \\\n",
    "       .withColumn(\"attr_wifi\", business_df.attributes.WiFi) \\\n",
    "       .withColumn(\"attr_ambience_casual\", business_df.attributes.Ambience.casual) \\\n",
    "       .withColumn(\"attr_ambience_classy\", business_df.attributes.Ambience.classy) \\\n",
    "       .withColumn(\"attr_ambience_divey\", business_df.attributes.Ambience.divey) \\\n",
    "       .withColumn(\"attr_ambience_hipster\", business_df.attributes.Ambience.hipster) \\\n",
    "       .withColumn(\"attr_ambience_intimate\", business_df.attributes.Ambience.intimate) \\\n",
    "       .withColumn(\"attr_ambience_romantic\", business_df.attributes.Ambience.romantic) \\\n",
    "       .withColumn(\"attr_ambience_touristy\", business_df.attributes.Ambience.touristy) \\\n",
    "       .withColumn(\"attr_ambience_trendy\", business_df.attributes.Ambience.trendy) \\\n",
    "       .withColumn(\"attr_ambience_upscale\", business_df.attributes.Ambience.upscale) \\\n",
    "       .withColumn(\"attr_business_parking_garage\", business_df.attributes.BusinessParking.garage) \\\n",
    "       .withColumn(\"attr_business_parking_lot\", business_df.attributes.BusinessParking.lot) \\\n",
    "       .withColumn(\"attr_business_parking_street\", business_df.attributes.BusinessParking.street) \\\n",
    "       .withColumn(\"attr_business_parking_valet\", business_df.attributes.BusinessParking.valet)\n",
    "\n",
    "# Extract hours\n",
    "business_df = business_df.withColumn(\"hours_monday\", business_df.hours.Monday) \\\n",
    "       .withColumn(\"hours_tuesday\", business_df.hours.Tuesday) \\\n",
    "       .withColumn(\"hours_wednesday\", business_df.hours.Wednesday) \\\n",
    "       .withColumn(\"hours_thursday\", business_df.hours.Thursday) \\\n",
    "       .withColumn(\"hours_friday\", business_df.hours.Friday) \\\n",
    "       .withColumn(\"hours_saturday\", business_df.hours.Saturday) \\\n",
    "       .withColumn(\"hours_sunday\", business_df.hours.Sunday)\n",
    "\n",
    "# Drop original nested columns\n",
    "business_df = business_df.drop(\"attributes\", \"hours\")"
   ]
  },
  {
   "cell_type": "code",
   "execution_count": null,
   "metadata": {},
   "outputs": [],
   "source": [
    "# Long-form to Wide-form on categories column\n",
    "business_df.select(\"categories\").show(5, False) # Current categories column"
   ]
  },
  {
   "cell_type": "code",
   "execution_count": null,
   "metadata": {},
   "outputs": [],
   "source": [
    "business_df = business_df.withColumn(\"category\", split(\"categories\", \", \"))\n",
    "\n",
    "# Explode categories column\n",
    "exploded_categories = business_df.select(\"business_id\", \"category\", \"categories\").withColumn(\"category\", explode(\"category\"))\n",
    "exploded_categories = exploded_categories.withColumn(\"category\", regexp_replace(\"category\", \"&\", \" \"))\n",
    "exploded_categories = exploded_categories.withColumn(\"category\", regexp_replace(\"category\", \" +\", \" \"))\n",
    "exploded_categories = exploded_categories.withColumn(\"category\", regexp_replace(\"category\", \" \", \"_\"))\n",
    "exploded_categories = exploded_categories.withColumn(\"category\", regexp_replace(\"category\", \"-\", \"_\"))\n",
    "exploded_categories = exploded_categories.withColumn(\"category\", regexp_replace(\"category\", \"_+\", \"_\"))\n",
    "exploded_categories = exploded_categories.withColumn(\"category\", regexp_replace(\"category\", \"'\", \"\"))\n",
    "exploded_categories = exploded_categories.withColumn(\"category\", regexp_replace(\"category\", \"&\", \"and\"))\n",
    "exploded_categories = exploded_categories.withColumn(\"category\", regexp_replace(\"category\", \"/\", \"_or_\"))\n",
    "exploded_categories = exploded_categories.withColumn(\"category\", regexp_replace(\"category\", \"\\(\", \"\"))\n",
    "exploded_categories = exploded_categories.withColumn(\"category\", regexp_replace(\"category\", \"\\)\", \"\"))\n",
    "exploded_categories = exploded_categories.withColumn(\"category\", trim(\"category\"))\n",
    "exploded_categories = exploded_categories.withColumn(\"category\", lower(\"category\"))\n",
    "exploded_categories = exploded_categories.withColumn(\"category\", concat(lit(\"cat_\"), exploded_categories.category))"
   ]
  },
  {
   "cell_type": "code",
   "execution_count": null,
   "metadata": {},
   "outputs": [],
   "source": [
    "exploded_categories.select(\"business_id\", \"category\", \"categories\").show(10, False) # Exploded categories column"
   ]
  },
  {
   "cell_type": "code",
   "execution_count": null,
   "metadata": {},
   "outputs": [],
   "source": [
    "# exploded_categories.toPandas().to_csv(str(raw_data_dir / 't_categories.csv'), index=False)"
   ]
  },
  {
   "cell_type": "code",
   "execution_count": null,
   "metadata": {},
   "outputs": [],
   "source": [
    "exploded_categories.printSchema()"
   ]
  },
  {
   "cell_type": "code",
   "execution_count": null,
   "metadata": {},
   "outputs": [],
   "source": [
    "# Pivot the resulting rows into columns\n",
    "pivoted_df = exploded_categories.groupBy(\"business_id\").pivot(\"category\").count().na.fill(0)\n",
    "pivoted_df.show(5, False)"
   ]
  },
  {
   "cell_type": "code",
   "execution_count": null,
   "metadata": {},
   "outputs": [],
   "source": [
    "# Join the pivoted DataFrame back to the original DataFrame\n",
    "joined_df = business_df.join(pivoted_df, \"business_id\", \"left\")\n",
    "joined_df.show(5, False)"
   ]
  },
  {
   "cell_type": "code",
   "execution_count": null,
   "metadata": {},
   "outputs": [],
   "source": [
    "# Remove the original categories column and category column\n",
    "joined_df = joined_df.drop(\"categories\", \"category\")\n",
    "joined_df.show(5, False)"
   ]
  },
  {
   "cell_type": "code",
   "execution_count": null,
   "metadata": {},
   "outputs": [],
   "source": [
    "# Change joined_df to pandas and Write to csv\n",
    "# joined_df.toPandas().to_csv(str(cleaned_data_dir / 'business.csv'), index=False)"
   ]
  },
  {
   "cell_type": "code",
   "execution_count": null,
   "metadata": {},
   "outputs": [],
   "source": []
  },
  {
   "cell_type": "code",
   "execution_count": null,
   "metadata": {},
   "outputs": [],
   "source": []
  },
  {
   "cell_type": "code",
   "execution_count": null,
   "metadata": {},
   "outputs": [],
   "source": [
    "# review_df = spark.read.json(str(data_dir / 'yelp_academic_dataset_review.json'))\n",
    "# user_df = spark.read.json(str(data_dir / 'yelp_academic_dataset_user.json'))"
   ]
  }
 ],
 "metadata": {
  "kernelspec": {
   "display_name": "dsa-5900-_6tTJzrA-py3.10",
   "language": "python",
   "name": "python3"
  },
  "language_info": {
   "codemirror_mode": {
    "name": "ipython",
    "version": 3
   },
   "file_extension": ".py",
   "mimetype": "text/x-python",
   "name": "python",
   "nbconvert_exporter": "python",
   "pygments_lexer": "ipython3",
   "version": "3.10.4"
  },
  "vscode": {
   "interpreter": {
    "hash": "923fcee6bfc068f935f589b2e4ec895c04cdabbe96713c0144242392fd29fe27"
   }
  }
 },
 "nbformat": 4,
 "nbformat_minor": 0
}
