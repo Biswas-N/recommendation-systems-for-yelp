{
 "cells": [
  {
   "cell_type": "code",
   "execution_count": 1,
   "metadata": {},
   "outputs": [
    {
     "data": {
      "text/plain": [
       "[WindowsPath('w:/OU/OneDrive - University of Oklahoma/MSinDSA/Spring-2023/DSA-5900/data/cleaned/business.csv'),\n",
       " WindowsPath('w:/OU/OneDrive - University of Oklahoma/MSinDSA/Spring-2023/DSA-5900/data/cleaned/review.csv'),\n",
       " WindowsPath('w:/OU/OneDrive - University of Oklahoma/MSinDSA/Spring-2023/DSA-5900/data/cleaned/user.csv')]"
      ]
     },
     "execution_count": 1,
     "metadata": {},
     "output_type": "execute_result"
    }
   ],
   "source": [
    "import psycopg2\n",
    "import numpy as np\n",
    "import pandas as pd\n",
    "import psycopg2.extras as extras\n",
    "from sqlalchemy import create_engine\n",
    "\n",
    "from pathlib import Path\n",
    "import io\n",
    "\n",
    "data_dir = Path.cwd().parent / 'data' / 'cleaned'\n",
    "list(data_dir.glob('*.csv'))"
   ]
  },
  {
   "cell_type": "code",
   "execution_count": 2,
   "metadata": {},
   "outputs": [],
   "source": [
    "db_config = {\n",
    "    \"database\": \"yelp_db\",\n",
    "    \"user\": \"postgres\",\n",
    "    \"password\": \"admin\",\n",
    "    \"host\": \"localhost\",\n",
    "    \"port\": \"5432\"\n",
    "}\n",
    "\n",
    "engine = create_engine(\n",
    "    f'postgresql+psycopg2://{db_config[\"user\"]}:{db_config[\"password\"]}@{db_config[\"host\"]}:{db_config[\"port\"]}/{db_config[\"database\"]}')"
   ]
  },
  {
   "attachments": {},
   "cell_type": "markdown",
   "metadata": {},
   "source": [
    "## Inserting Business Data"
   ]
  },
  {
   "cell_type": "code",
   "execution_count": 10,
   "metadata": {},
   "outputs": [
    {
     "name": "stderr",
     "output_type": "stream",
     "text": [
      "C:\\Users\\biswa\\AppData\\Local\\Temp\\ipykernel_8028\\565852556.py:1: DtypeWarning: Columns (11,15,16,17,18,20,21,22) have mixed types. Specify dtype option on import or set low_memory=False.\n",
      "  business_df = pd.read_csv(data_dir / 'business.csv')\n"
     ]
    }
   ],
   "source": [
    "business_df = pd.read_csv(data_dir / 'business.csv')\n",
    "\n",
    "cats = [i for i in business_df.columns if i.startswith('cat_')]\n",
    "attrs = [i for i in business_df.columns if i.startswith('attr_')]\n",
    "main_cols = [i for i in business_df.columns if i not in cats + attrs]\n",
    "\n",
    "# Divide cats into two groups to avoid exceeding the maximum number of parameters in a query by\n",
    "# randomly selecting half of the columns\n",
    "cats_1 = list(np.random.choice(cats, int(len(cats) / 2), replace=False))\n",
    "cats_2 = [i for i in cats if i not in cats_1]"
   ]
  },
  {
   "cell_type": "code",
   "execution_count": 11,
   "metadata": {},
   "outputs": [],
   "source": [
    "attrs_df = business_df[['business_id'] + attrs].copy()\n",
    "cats_1_df = business_df[['business_id'] + cats_1].copy()\n",
    "cats_2_df = business_df[['business_id'] + cats_2].copy()\n",
    "business_df = business_df[main_cols].copy()"
   ]
  },
  {
   "cell_type": "code",
   "execution_count": 12,
   "metadata": {},
   "outputs": [
    {
     "data": {
      "text/plain": [
       "3003"
      ]
     },
     "execution_count": 12,
     "metadata": {},
     "output_type": "execute_result"
    }
   ],
   "source": [
    "business_df.to_sql(\"business\", con=engine, if_exists='replace', index=False, chunksize=1000)\n",
    "attrs_df.to_sql(\"business_attr\", con=engine, if_exists='replace', index=False, chunksize=1000)\n",
    "cats_1_df.to_sql(\"business_cat1\", con=engine, if_exists='replace', index=False, chunksize=1000)\n",
    "cats_2_df.to_sql(\"business_cat2\", con=engine, if_exists='replace', index=False, chunksize=1000)"
   ]
  },
  {
   "cell_type": "code",
   "execution_count": 14,
   "metadata": {},
   "outputs": [],
   "source": [
    "# Clean up\n",
    "# del business_df, attrs_df, cats_1_df, cats_1_df"
   ]
  }
 ],
 "metadata": {
  "kernelspec": {
   "display_name": ".venv",
   "language": "python",
   "name": "python3"
  },
  "language_info": {
   "codemirror_mode": {
    "name": "ipython",
    "version": 3
   },
   "file_extension": ".py",
   "mimetype": "text/x-python",
   "name": "python",
   "nbconvert_exporter": "python",
   "pygments_lexer": "ipython3",
   "version": "3.10.4"
  },
  "orig_nbformat": 4
 },
 "nbformat": 4,
 "nbformat_minor": 2
}
