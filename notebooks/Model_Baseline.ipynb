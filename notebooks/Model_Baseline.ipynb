{
  "nbformat": 4,
  "nbformat_minor": 0,
  "metadata": {
    "colab": {
      "provenance": []
    },
    "kernelspec": {
      "name": "python3",
      "display_name": "Python 3"
    },
    "language_info": {
      "name": "python"
    },
    "gpuClass": "premium",
    "accelerator": "GPU"
  },
  "cells": [
    {
      "cell_type": "code",
      "execution_count": 1,
      "metadata": {
        "id": "4EqwRf2HRvt4"
      },
      "outputs": [],
      "source": [
        "from pathlib import Path\n",
        "\n",
        "import pandas as pd\n",
        "import numpy as np\n",
        "from scipy.sparse import csr_matrix\n",
        "from sklearn.preprocessing import LabelEncoder\n",
        "from sklearn.metrics.pairwise import cosine_similarity\n",
        "\n",
        "data = Path(\"/content/drive/MyDrive/merged_data.csv\")"
      ]
    },
    {
      "cell_type": "code",
      "source": [
        "main_df = pd.read_csv(data)\n",
        "main_df = main_df[main_df.state.isin(['PA', 'FL', 'LA'])] # Top three states: PA, FL, LA"
      ],
      "metadata": {
        "id": "Yq9aGJ1ceBjI"
      },
      "execution_count": 2,
      "outputs": []
    },
    {
      "cell_type": "code",
      "source": [
        "# create a label encoder for user_id and business_id\n",
        "(user_encoder, business_encoder) = (LabelEncoder(), LabelEncoder())\n",
        "\n",
        "# fit the encoders to the data\n",
        "user_encoder.fit(main_df['user_id'])\n",
        "business_encoder.fit(main_df['business_id'])\n",
        "\n",
        "# encode the user_id and business_id columns\n",
        "main_df['user_id_encoded'] = user_encoder.transform(main_df['user_id'])\n",
        "main_df['business_id_encoded'] = business_encoder.transform(main_df['business_id'])"
      ],
      "metadata": {
        "id": "CGUnn6SjjVjC"
      },
      "execution_count": 3,
      "outputs": []
    },
    {
      "cell_type": "code",
      "source": [
        "main_df.head()"
      ],
      "metadata": {
        "colab": {
          "base_uri": "https://localhost:8080/",
          "height": 250
        },
        "id": "buyhFGL_j2pN",
        "outputId": "683d035f-c0ce-48ed-ef02-8496e1cffe25"
      },
      "execution_count": 4,
      "outputs": [
        {
          "output_type": "execute_result",
          "data": {
            "text/plain": [
              "                  user_id             business_id  \\\n",
              "0  b-yqVomA1iK2mKQFnTuTbQ  uYMVRPYEqpmVXWN2xOs5KQ   \n",
              "1  utx0JQVAwsXaedVV-xPZjw  uYMVRPYEqpmVXWN2xOs5KQ   \n",
              "4  s_9uD6zqVU-9cnKO9pDKtg  jMi5SL9vb6nLJGRjw0HK3Q   \n",
              "5  p6qI5SY2ybs003-whBAnpA  2N97axWHko3rzyzOGCxxBA   \n",
              "6  JOrDiXIgpb0sjtd7Cr3CdA  RUfWgnSSQKjRNBpK0wSxfg   \n",
              "\n",
              "                                         name state  stars  \\\n",
              "0  Cooper's Hawk Winery & Restaurants - Tampa    FL      3   \n",
              "1  Cooper's Hawk Winery & Restaurants - Tampa    FL      4   \n",
              "4                               Civera's Deli    PA      5   \n",
              "5                          URBAN Brew and BBQ    FL      1   \n",
              "6                              Isabella Pizza    PA      1   \n",
              "\n",
              "                                                text  user_id_encoded  \\\n",
              "0  The wife and I went to Cooper's Hawk for the f...            45741   \n",
              "1  Pros: the food is fantastic. The burnt broccol...            69065   \n",
              "4  Civera's Deli is the cleanest deli in Delco. E...            66237   \n",
              "5  Disappointing 2nd time experience. Waited 15-2...            62254   \n",
              "6  Yuck. I ordered here this morning for breakfas...            24022   \n",
              "\n",
              "   business_id_encoded  \n",
              "0                43151  \n",
              "1                43151  \n",
              "4                34858  \n",
              "5                 2551  \n",
              "6                20979  "
            ],
            "text/html": [
              "\n",
              "  <div id=\"df-b8ab542d-e480-4079-ad51-31499f09bf26\">\n",
              "    <div class=\"colab-df-container\">\n",
              "      <div>\n",
              "<style scoped>\n",
              "    .dataframe tbody tr th:only-of-type {\n",
              "        vertical-align: middle;\n",
              "    }\n",
              "\n",
              "    .dataframe tbody tr th {\n",
              "        vertical-align: top;\n",
              "    }\n",
              "\n",
              "    .dataframe thead th {\n",
              "        text-align: right;\n",
              "    }\n",
              "</style>\n",
              "<table border=\"1\" class=\"dataframe\">\n",
              "  <thead>\n",
              "    <tr style=\"text-align: right;\">\n",
              "      <th></th>\n",
              "      <th>user_id</th>\n",
              "      <th>business_id</th>\n",
              "      <th>name</th>\n",
              "      <th>state</th>\n",
              "      <th>stars</th>\n",
              "      <th>text</th>\n",
              "      <th>user_id_encoded</th>\n",
              "      <th>business_id_encoded</th>\n",
              "    </tr>\n",
              "  </thead>\n",
              "  <tbody>\n",
              "    <tr>\n",
              "      <th>0</th>\n",
              "      <td>b-yqVomA1iK2mKQFnTuTbQ</td>\n",
              "      <td>uYMVRPYEqpmVXWN2xOs5KQ</td>\n",
              "      <td>Cooper's Hawk Winery &amp; Restaurants - Tampa</td>\n",
              "      <td>FL</td>\n",
              "      <td>3</td>\n",
              "      <td>The wife and I went to Cooper's Hawk for the f...</td>\n",
              "      <td>45741</td>\n",
              "      <td>43151</td>\n",
              "    </tr>\n",
              "    <tr>\n",
              "      <th>1</th>\n",
              "      <td>utx0JQVAwsXaedVV-xPZjw</td>\n",
              "      <td>uYMVRPYEqpmVXWN2xOs5KQ</td>\n",
              "      <td>Cooper's Hawk Winery &amp; Restaurants - Tampa</td>\n",
              "      <td>FL</td>\n",
              "      <td>4</td>\n",
              "      <td>Pros: the food is fantastic. The burnt broccol...</td>\n",
              "      <td>69065</td>\n",
              "      <td>43151</td>\n",
              "    </tr>\n",
              "    <tr>\n",
              "      <th>4</th>\n",
              "      <td>s_9uD6zqVU-9cnKO9pDKtg</td>\n",
              "      <td>jMi5SL9vb6nLJGRjw0HK3Q</td>\n",
              "      <td>Civera's Deli</td>\n",
              "      <td>PA</td>\n",
              "      <td>5</td>\n",
              "      <td>Civera's Deli is the cleanest deli in Delco. E...</td>\n",
              "      <td>66237</td>\n",
              "      <td>34858</td>\n",
              "    </tr>\n",
              "    <tr>\n",
              "      <th>5</th>\n",
              "      <td>p6qI5SY2ybs003-whBAnpA</td>\n",
              "      <td>2N97axWHko3rzyzOGCxxBA</td>\n",
              "      <td>URBAN Brew and BBQ</td>\n",
              "      <td>FL</td>\n",
              "      <td>1</td>\n",
              "      <td>Disappointing 2nd time experience. Waited 15-2...</td>\n",
              "      <td>62254</td>\n",
              "      <td>2551</td>\n",
              "    </tr>\n",
              "    <tr>\n",
              "      <th>6</th>\n",
              "      <td>JOrDiXIgpb0sjtd7Cr3CdA</td>\n",
              "      <td>RUfWgnSSQKjRNBpK0wSxfg</td>\n",
              "      <td>Isabella Pizza</td>\n",
              "      <td>PA</td>\n",
              "      <td>1</td>\n",
              "      <td>Yuck. I ordered here this morning for breakfas...</td>\n",
              "      <td>24022</td>\n",
              "      <td>20979</td>\n",
              "    </tr>\n",
              "  </tbody>\n",
              "</table>\n",
              "</div>\n",
              "      <button class=\"colab-df-convert\" onclick=\"convertToInteractive('df-b8ab542d-e480-4079-ad51-31499f09bf26')\"\n",
              "              title=\"Convert this dataframe to an interactive table.\"\n",
              "              style=\"display:none;\">\n",
              "        \n",
              "  <svg xmlns=\"http://www.w3.org/2000/svg\" height=\"24px\"viewBox=\"0 0 24 24\"\n",
              "       width=\"24px\">\n",
              "    <path d=\"M0 0h24v24H0V0z\" fill=\"none\"/>\n",
              "    <path d=\"M18.56 5.44l.94 2.06.94-2.06 2.06-.94-2.06-.94-.94-2.06-.94 2.06-2.06.94zm-11 1L8.5 8.5l.94-2.06 2.06-.94-2.06-.94L8.5 2.5l-.94 2.06-2.06.94zm10 10l.94 2.06.94-2.06 2.06-.94-2.06-.94-.94-2.06-.94 2.06-2.06.94z\"/><path d=\"M17.41 7.96l-1.37-1.37c-.4-.4-.92-.59-1.43-.59-.52 0-1.04.2-1.43.59L10.3 9.45l-7.72 7.72c-.78.78-.78 2.05 0 2.83L4 21.41c.39.39.9.59 1.41.59.51 0 1.02-.2 1.41-.59l7.78-7.78 2.81-2.81c.8-.78.8-2.07 0-2.86zM5.41 20L4 18.59l7.72-7.72 1.47 1.35L5.41 20z\"/>\n",
              "  </svg>\n",
              "      </button>\n",
              "      \n",
              "  <style>\n",
              "    .colab-df-container {\n",
              "      display:flex;\n",
              "      flex-wrap:wrap;\n",
              "      gap: 12px;\n",
              "    }\n",
              "\n",
              "    .colab-df-convert {\n",
              "      background-color: #E8F0FE;\n",
              "      border: none;\n",
              "      border-radius: 50%;\n",
              "      cursor: pointer;\n",
              "      display: none;\n",
              "      fill: #1967D2;\n",
              "      height: 32px;\n",
              "      padding: 0 0 0 0;\n",
              "      width: 32px;\n",
              "    }\n",
              "\n",
              "    .colab-df-convert:hover {\n",
              "      background-color: #E2EBFA;\n",
              "      box-shadow: 0px 1px 2px rgba(60, 64, 67, 0.3), 0px 1px 3px 1px rgba(60, 64, 67, 0.15);\n",
              "      fill: #174EA6;\n",
              "    }\n",
              "\n",
              "    [theme=dark] .colab-df-convert {\n",
              "      background-color: #3B4455;\n",
              "      fill: #D2E3FC;\n",
              "    }\n",
              "\n",
              "    [theme=dark] .colab-df-convert:hover {\n",
              "      background-color: #434B5C;\n",
              "      box-shadow: 0px 1px 3px 1px rgba(0, 0, 0, 0.15);\n",
              "      filter: drop-shadow(0px 1px 2px rgba(0, 0, 0, 0.3));\n",
              "      fill: #FFFFFF;\n",
              "    }\n",
              "  </style>\n",
              "\n",
              "      <script>\n",
              "        const buttonEl =\n",
              "          document.querySelector('#df-b8ab542d-e480-4079-ad51-31499f09bf26 button.colab-df-convert');\n",
              "        buttonEl.style.display =\n",
              "          google.colab.kernel.accessAllowed ? 'block' : 'none';\n",
              "\n",
              "        async function convertToInteractive(key) {\n",
              "          const element = document.querySelector('#df-b8ab542d-e480-4079-ad51-31499f09bf26');\n",
              "          const dataTable =\n",
              "            await google.colab.kernel.invokeFunction('convertToInteractive',\n",
              "                                                     [key], {});\n",
              "          if (!dataTable) return;\n",
              "\n",
              "          const docLinkHtml = 'Like what you see? Visit the ' +\n",
              "            '<a target=\"_blank\" href=https://colab.research.google.com/notebooks/data_table.ipynb>data table notebook</a>'\n",
              "            + ' to learn more about interactive tables.';\n",
              "          element.innerHTML = '';\n",
              "          dataTable['output_type'] = 'display_data';\n",
              "          await google.colab.output.renderOutput(dataTable, element);\n",
              "          const docLink = document.createElement('div');\n",
              "          docLink.innerHTML = docLinkHtml;\n",
              "          element.appendChild(docLink);\n",
              "        }\n",
              "      </script>\n",
              "    </div>\n",
              "  </div>\n",
              "  "
            ]
          },
          "metadata": {},
          "execution_count": 4
        }
      ]
    },
    {
      "cell_type": "code",
      "source": [
        "main_df.dtypes"
      ],
      "metadata": {
        "colab": {
          "base_uri": "https://localhost:8080/"
        },
        "id": "h1x8DIftqG2W",
        "outputId": "12840957-92e1-4407-9865-6e9c5794bd22"
      },
      "execution_count": 5,
      "outputs": [
        {
          "output_type": "execute_result",
          "data": {
            "text/plain": [
              "user_id                object\n",
              "business_id            object\n",
              "name                   object\n",
              "state                  object\n",
              "stars                   int64\n",
              "text                   object\n",
              "user_id_encoded         int64\n",
              "business_id_encoded     int64\n",
              "dtype: object"
            ]
          },
          "metadata": {},
          "execution_count": 5
        }
      ]
    },
    {
      "cell_type": "code",
      "source": [
        "# Number of unique users\n",
        "{\n",
        "    \"n_users\": len(main_df[\"user_id\"].unique()),\n",
        "    \"n_businesses\": len(main_df[\"business_id\"].unique())\n",
        "}"
      ],
      "metadata": {
        "colab": {
          "base_uri": "https://localhost:8080/"
        },
        "id": "K6fyGLdtSkEd",
        "outputId": "5192ab37-8525-48e9-9e3e-fd99c901ba5a"
      },
      "execution_count": 6,
      "outputs": [
        {
          "output_type": "execute_result",
          "data": {
            "text/plain": [
              "{'n_users': 75036, 'n_businesses': 47261}"
            ]
          },
          "metadata": {},
          "execution_count": 6
        }
      ]
    },
    {
      "cell_type": "code",
      "source": [
        "# Extracting business\n",
        "businesses_df = main_df[['business_id', 'business_id_encoded']].drop_duplicates()\n",
        "businesses_df = pd.merge(businesses_df, main_df[['business_id', 'name']], on='business_id', how='left')\n",
        "businesses_df = businesses_df.drop_duplicates()\n",
        "businesses_df = businesses_df.set_index(['business_id_encoded', 'business_id'])\n",
        "businesses_df.head()"
      ],
      "metadata": {
        "colab": {
          "base_uri": "https://localhost:8080/",
          "height": 238
        },
        "id": "VrSxDb2jpZpB",
        "outputId": "44486568-4c23-4592-fd2b-c696d1803de0"
      },
      "execution_count": 7,
      "outputs": [
        {
          "output_type": "execute_result",
          "data": {
            "text/plain": [
              "                                                                                  name\n",
              "business_id_encoded business_id                                                       \n",
              "43151               uYMVRPYEqpmVXWN2xOs5KQ  Cooper's Hawk Winery & Restaurants - Tampa\n",
              "34858               jMi5SL9vb6nLJGRjw0HK3Q                               Civera's Deli\n",
              "2551                2N97axWHko3rzyzOGCxxBA                          URBAN Brew and BBQ\n",
              "20979               RUfWgnSSQKjRNBpK0wSxfg                              Isabella Pizza\n",
              "6377                7WWLPXpOjrh_1EvjFuw3hQ                            The Drake Tavern"
            ],
            "text/html": [
              "\n",
              "  <div id=\"df-b472e8fd-2472-4b88-b1aa-d25c43d38671\">\n",
              "    <div class=\"colab-df-container\">\n",
              "      <div>\n",
              "<style scoped>\n",
              "    .dataframe tbody tr th:only-of-type {\n",
              "        vertical-align: middle;\n",
              "    }\n",
              "\n",
              "    .dataframe tbody tr th {\n",
              "        vertical-align: top;\n",
              "    }\n",
              "\n",
              "    .dataframe thead th {\n",
              "        text-align: right;\n",
              "    }\n",
              "</style>\n",
              "<table border=\"1\" class=\"dataframe\">\n",
              "  <thead>\n",
              "    <tr style=\"text-align: right;\">\n",
              "      <th></th>\n",
              "      <th></th>\n",
              "      <th>name</th>\n",
              "    </tr>\n",
              "    <tr>\n",
              "      <th>business_id_encoded</th>\n",
              "      <th>business_id</th>\n",
              "      <th></th>\n",
              "    </tr>\n",
              "  </thead>\n",
              "  <tbody>\n",
              "    <tr>\n",
              "      <th>43151</th>\n",
              "      <th>uYMVRPYEqpmVXWN2xOs5KQ</th>\n",
              "      <td>Cooper's Hawk Winery &amp; Restaurants - Tampa</td>\n",
              "    </tr>\n",
              "    <tr>\n",
              "      <th>34858</th>\n",
              "      <th>jMi5SL9vb6nLJGRjw0HK3Q</th>\n",
              "      <td>Civera's Deli</td>\n",
              "    </tr>\n",
              "    <tr>\n",
              "      <th>2551</th>\n",
              "      <th>2N97axWHko3rzyzOGCxxBA</th>\n",
              "      <td>URBAN Brew and BBQ</td>\n",
              "    </tr>\n",
              "    <tr>\n",
              "      <th>20979</th>\n",
              "      <th>RUfWgnSSQKjRNBpK0wSxfg</th>\n",
              "      <td>Isabella Pizza</td>\n",
              "    </tr>\n",
              "    <tr>\n",
              "      <th>6377</th>\n",
              "      <th>7WWLPXpOjrh_1EvjFuw3hQ</th>\n",
              "      <td>The Drake Tavern</td>\n",
              "    </tr>\n",
              "  </tbody>\n",
              "</table>\n",
              "</div>\n",
              "      <button class=\"colab-df-convert\" onclick=\"convertToInteractive('df-b472e8fd-2472-4b88-b1aa-d25c43d38671')\"\n",
              "              title=\"Convert this dataframe to an interactive table.\"\n",
              "              style=\"display:none;\">\n",
              "        \n",
              "  <svg xmlns=\"http://www.w3.org/2000/svg\" height=\"24px\"viewBox=\"0 0 24 24\"\n",
              "       width=\"24px\">\n",
              "    <path d=\"M0 0h24v24H0V0z\" fill=\"none\"/>\n",
              "    <path d=\"M18.56 5.44l.94 2.06.94-2.06 2.06-.94-2.06-.94-.94-2.06-.94 2.06-2.06.94zm-11 1L8.5 8.5l.94-2.06 2.06-.94-2.06-.94L8.5 2.5l-.94 2.06-2.06.94zm10 10l.94 2.06.94-2.06 2.06-.94-2.06-.94-.94-2.06-.94 2.06-2.06.94z\"/><path d=\"M17.41 7.96l-1.37-1.37c-.4-.4-.92-.59-1.43-.59-.52 0-1.04.2-1.43.59L10.3 9.45l-7.72 7.72c-.78.78-.78 2.05 0 2.83L4 21.41c.39.39.9.59 1.41.59.51 0 1.02-.2 1.41-.59l7.78-7.78 2.81-2.81c.8-.78.8-2.07 0-2.86zM5.41 20L4 18.59l7.72-7.72 1.47 1.35L5.41 20z\"/>\n",
              "  </svg>\n",
              "      </button>\n",
              "      \n",
              "  <style>\n",
              "    .colab-df-container {\n",
              "      display:flex;\n",
              "      flex-wrap:wrap;\n",
              "      gap: 12px;\n",
              "    }\n",
              "\n",
              "    .colab-df-convert {\n",
              "      background-color: #E8F0FE;\n",
              "      border: none;\n",
              "      border-radius: 50%;\n",
              "      cursor: pointer;\n",
              "      display: none;\n",
              "      fill: #1967D2;\n",
              "      height: 32px;\n",
              "      padding: 0 0 0 0;\n",
              "      width: 32px;\n",
              "    }\n",
              "\n",
              "    .colab-df-convert:hover {\n",
              "      background-color: #E2EBFA;\n",
              "      box-shadow: 0px 1px 2px rgba(60, 64, 67, 0.3), 0px 1px 3px 1px rgba(60, 64, 67, 0.15);\n",
              "      fill: #174EA6;\n",
              "    }\n",
              "\n",
              "    [theme=dark] .colab-df-convert {\n",
              "      background-color: #3B4455;\n",
              "      fill: #D2E3FC;\n",
              "    }\n",
              "\n",
              "    [theme=dark] .colab-df-convert:hover {\n",
              "      background-color: #434B5C;\n",
              "      box-shadow: 0px 1px 3px 1px rgba(0, 0, 0, 0.15);\n",
              "      filter: drop-shadow(0px 1px 2px rgba(0, 0, 0, 0.3));\n",
              "      fill: #FFFFFF;\n",
              "    }\n",
              "  </style>\n",
              "\n",
              "      <script>\n",
              "        const buttonEl =\n",
              "          document.querySelector('#df-b472e8fd-2472-4b88-b1aa-d25c43d38671 button.colab-df-convert');\n",
              "        buttonEl.style.display =\n",
              "          google.colab.kernel.accessAllowed ? 'block' : 'none';\n",
              "\n",
              "        async function convertToInteractive(key) {\n",
              "          const element = document.querySelector('#df-b472e8fd-2472-4b88-b1aa-d25c43d38671');\n",
              "          const dataTable =\n",
              "            await google.colab.kernel.invokeFunction('convertToInteractive',\n",
              "                                                     [key], {});\n",
              "          if (!dataTable) return;\n",
              "\n",
              "          const docLinkHtml = 'Like what you see? Visit the ' +\n",
              "            '<a target=\"_blank\" href=https://colab.research.google.com/notebooks/data_table.ipynb>data table notebook</a>'\n",
              "            + ' to learn more about interactive tables.';\n",
              "          element.innerHTML = '';\n",
              "          dataTable['output_type'] = 'display_data';\n",
              "          await google.colab.output.renderOutput(dataTable, element);\n",
              "          const docLink = document.createElement('div');\n",
              "          docLink.innerHTML = docLinkHtml;\n",
              "          element.appendChild(docLink);\n",
              "        }\n",
              "      </script>\n",
              "    </div>\n",
              "  </div>\n",
              "  "
            ]
          },
          "metadata": {},
          "execution_count": 7
        }
      ]
    },
    {
      "cell_type": "markdown",
      "source": [
        "## Raw Correlation (Cosine Similarity) - for baseline model"
      ],
      "metadata": {
        "id": "tP_huKJJeevS"
      }
    },
    {
      "cell_type": "code",
      "source": [
        "# Generating the user-item rating matrix - using raw user_id and raw business_id\n",
        "rating_matrix = csr_matrix((main_df['stars'], (main_df['user_id_encoded'], main_df['business_id_encoded'])))\n",
        "rating_matrix # n_users x n_businesses"
      ],
      "metadata": {
        "colab": {
          "base_uri": "https://localhost:8080/"
        },
        "id": "sRE29RIteFor",
        "outputId": "94d6463b-944e-49f9-fccb-14b8bfd51032"
      },
      "execution_count": 8,
      "outputs": [
        {
          "output_type": "execute_result",
          "data": {
            "text/plain": [
              "<75036x47261 sparse matrix of type '<class 'numpy.int64'>'\n",
              "\twith 1559381 stored elements in Compressed Sparse Row format>"
            ]
          },
          "metadata": {},
          "execution_count": 8
        }
      ]
    },
    {
      "cell_type": "code",
      "source": [
        "# Calculate the pairwise similarities between items using cosine similarity\n",
        "# Item-Item similarity (n_items x n_items)\n",
        "item_similarity = cosine_similarity(rating_matrix.T)\n",
        "item_similarity"
      ],
      "metadata": {
        "colab": {
          "base_uri": "https://localhost:8080/"
        },
        "id": "kox7K7y4j-EP",
        "outputId": "546d43d2-06bc-451e-ed89-0e00220c93ce"
      },
      "execution_count": 9,
      "outputs": [
        {
          "output_type": "execute_result",
          "data": {
            "text/plain": [
              "array([[1., 0., 0., ..., 0., 0., 0.],\n",
              "       [0., 1., 0., ..., 0., 0., 0.],\n",
              "       [0., 0., 1., ..., 0., 0., 0.],\n",
              "       ...,\n",
              "       [0., 0., 0., ..., 1., 0., 0.],\n",
              "       [0., 0., 0., ..., 0., 1., 0.],\n",
              "       [0., 0., 0., ..., 0., 0., 1.]])"
            ]
          },
          "metadata": {},
          "execution_count": 9
        }
      ]
    },
    {
      "cell_type": "code",
      "source": [
        "def get_item_item_recommendations(user_id, rating_matrix, item_similarity, businesses_df, n=5):\n",
        "    # get the target user's ratings\n",
        "    target_user_ratings = rating_matrix[user_id, :]\n",
        "    \n",
        "    # convert the target user's ratings to a sparse matrix format\n",
        "    target_user_rating_matrix = csr_matrix(target_user_ratings)\n",
        "    \n",
        "    # compute the dot product of the target user's ratings and the item similarity matrix\n",
        "    weighted_sum = target_user_rating_matrix.dot(item_similarity)\n",
        "    \n",
        "    # convert the result to a dense numpy array\n",
        "    predicted_ratings = weighted_sum.flatten()\n",
        "    \n",
        "    # get the indices of the top n recommendations\n",
        "    top_item_indices = np.argsort(predicted_ratings)[::-1][:n]\n",
        "    \n",
        "    # get the corresponding business IDs and names\n",
        "    return businesses_df.loc[top_item_indices, :]\n"
      ],
      "metadata": {
        "id": "fEBC6bmhZgIE"
      },
      "execution_count": 10,
      "outputs": []
    },
    {
      "cell_type": "code",
      "source": [
        "main_df[\"user_id_encoded\"].describe()"
      ],
      "metadata": {
        "colab": {
          "base_uri": "https://localhost:8080/"
        },
        "id": "YAcpBRa6Xh1M",
        "outputId": "7f62f82e-6296-46dc-8d76-df0b82db8f59"
      },
      "execution_count": 11,
      "outputs": [
        {
          "output_type": "execute_result",
          "data": {
            "text/plain": [
              "count    1.643235e+06\n",
              "mean     3.744425e+04\n",
              "std      2.170075e+04\n",
              "min      0.000000e+00\n",
              "25%      1.857400e+04\n",
              "50%      3.741700e+04\n",
              "75%      5.633600e+04\n",
              "max      7.503500e+04\n",
              "Name: user_id_encoded, dtype: float64"
            ]
          },
          "metadata": {},
          "execution_count": 11
        }
      ]
    },
    {
      "cell_type": "code",
      "source": [
        "[i[0] for i in get_item_item_recommendations(0, rating_matrix, item_similarity, businesses_df, n=6).index]"
      ],
      "metadata": {
        "colab": {
          "base_uri": "https://localhost:8080/"
        },
        "id": "9i1YYw2NU2hO",
        "outputId": "dd412ac2-c6b8-42a9-fbe1-e99546b41635"
      },
      "execution_count": 12,
      "outputs": [
        {
          "output_type": "execute_result",
          "data": {
            "text/plain": [
              "[1654, 33308, 21295, 20128, 19346, 16308]"
            ]
          },
          "metadata": {},
          "execution_count": 12
        }
      ]
    },
    {
      "cell_type": "markdown",
      "source": [
        "## Evaluation"
      ],
      "metadata": {
        "id": "TwwM6MOCqCax"
      }
    },
    {
      "cell_type": "markdown",
      "source": [
        "### Coverage\n",
        "\n",
        "Coverage can be calculate by determining the percentage of unique items that are recommended to at least one user. Higher coverage indicates a larger fraction of items that are being recommended, suggesting a better diversity in the recommendations"
      ],
      "metadata": {
        "id": "XdEj2wYtqFAm"
      }
    },
    {
      "cell_type": "code",
      "source": [
        "def coverage_score(rating_matrix, item_similarity, businesses_df, n_users, n_items, top_n):\n",
        "    \"\"\"\n",
        "    Calculate the coverage score for the recommendation system\n",
        "\n",
        "    :param rating_matrix: the user-business rating sparse matrix\n",
        "    :param item_similarity: Item-Item similarity matrix\n",
        "    :param businesses_df: Pandas Dataframe with business_id, business_id_encoded and name\n",
        "    :param n_users: total number of users\n",
        "    :param n_items: total number of businesses\n",
        "    :param top_n: number of recomendations\n",
        "    \"\"\"\n",
        "\n",
        "    recommended_items = set()\n",
        "    for user_id in range(n_users):\n",
        "      top_items = get_item_item_recommendations(\n",
        "          user_id, rating_matrix, item_similarity, businesses_df, n=top_n)\n",
        "      recommended_items.update([i[0] for i in top_items.index])\n",
        "\n",
        "    print(f\"Total items got {len(recommended_items)}\")\n",
        "    return len(recommended_items) / float(n_items)"
      ],
      "metadata": {
        "id": "IcHqpH9kXopN"
      },
      "execution_count": 13,
      "outputs": []
    },
    {
      "cell_type": "code",
      "source": [
        "baseline_cov = coverage_score(\n",
        "    rating_matrix,\n",
        "    item_similarity,\n",
        "    businesses_df,\n",
        "    main_df['user_id_encoded'].max(), # getting the total number of users\n",
        "    main_df['business_id_encoded'].max(), # getting the total number of businesses\n",
        "    3\n",
        ")\n",
        "print(f\"Baseline Coverage Score: {baseline_cov}\")"
      ],
      "metadata": {
        "colab": {
          "base_uri": "https://localhost:8080/"
        },
        "id": "4nylXzjqqVnB",
        "outputId": "d8c211fe-5cd0-4da5-940c-30c859b9ff0f"
      },
      "execution_count": 16,
      "outputs": [
        {
          "output_type": "stream",
          "name": "stdout",
          "text": [
            "Total items got 44829\n",
            "Baseline Coverage Score: 0.9485611510791367\n"
          ]
        }
      ]
    },
    {
      "cell_type": "markdown",
      "source": [
        "### Mean Average Precision at k (MAP@k)\n",
        "\n",
        "MAP@k measures how well the system ranks the recommended items for a user based on their true preferences. Higher MAP@k indicates a better ranking accuracy of the recommended items."
      ],
      "metadata": {
        "id": "566agYLz4SFQ"
      }
    },
    {
      "cell_type": "code",
      "source": [
        "def apk(actual, predicted, k):\n",
        "    \"\"\"\n",
        "    Calculates the average precision at k.\n",
        "    \"\"\"\n",
        "    if k == 0:\n",
        "        return 0.0\n",
        "    \n",
        "    predicted = predicted[:k]\n",
        "    \n",
        "    score = 0.0\n",
        "    num_hits = 0.0\n",
        "    \n",
        "    for i, p in enumerate(predicted):\n",
        "        if p in actual and p not in predicted[:i]:\n",
        "            num_hits += 1.0\n",
        "            score += num_hits / (i+1.0)\n",
        "    \n",
        "    return score / min(len(actual), k)"
      ],
      "metadata": {
        "id": "gMhX2vZT6HUf"
      },
      "execution_count": 19,
      "outputs": []
    },
    {
      "cell_type": "code",
      "source": [
        "top_n = 3\n",
        "user_item_preferences = main_df.groupby('user_id_encoded')['business_id_encoded'].apply(list).to_dict()\n",
        "\n",
        "mean_apk = 0.0\n",
        "for user_id, true_items in user_item_preferences.items():\n",
        "    top_items = get_item_item_recommendations(\n",
        "      user_id, rating_matrix, item_similarity, businesses_df, n=top_n)\n",
        "    predicted_items = [i[0] for i in top_items.index if i[0] in true_items]\n",
        "    apk_score = apk(true_items, predicted_items, top_n)\n",
        "    mean_apk += apk_score\n",
        "\n",
        "mean_apk /= float(len(user_item_preferences))\n",
        "\n",
        "mean_apk"
      ],
      "metadata": {
        "colab": {
          "base_uri": "https://localhost:8080/"
        },
        "id": "gWB5LnXM6A87",
        "outputId": "a829e3bf-58b2-442c-8297-e7b2bed9b675"
      },
      "execution_count": 21,
      "outputs": [
        {
          "output_type": "execute_result",
          "data": {
            "text/plain": [
              "0.9966949197718414"
            ]
          },
          "metadata": {},
          "execution_count": 21
        }
      ]
    },
    {
      "cell_type": "markdown",
      "source": [
        "### Mean Average Recall at k (MAR@k)\n",
        "\n",
        "MAR@k measures how well the system recommends the relevant items to a user. Higher MAR@k indicates a better ability of the system to recommend items that the user would prefer."
      ],
      "metadata": {
        "id": "zITbsPzY83PA"
      }
    },
    {
      "cell_type": "code",
      "source": [
        "def recall(actual, predicted, k):\n",
        "    \"\"\"\n",
        "    Calculates the recall.\n",
        "    \"\"\"\n",
        "    if len(actual) == 0:\n",
        "        return 0.0\n",
        "    \n",
        "    predicted = predicted[:k]\n",
        "    \n",
        "    score = 0.0\n",
        "    \n",
        "    for p in predicted:\n",
        "        if p in actual:\n",
        "            score += 1.0\n",
        "    \n",
        "    return score / float(len(actual))"
      ],
      "metadata": {
        "id": "UB8j1BLd82iW"
      },
      "execution_count": 25,
      "outputs": []
    },
    {
      "cell_type": "code",
      "source": [
        "top_n = 3\n",
        "user_item_preferences = main_df.groupby('user_id_encoded')['business_id_encoded'].apply(list).to_dict()\n",
        "\n",
        "mean_ar = 0.0\n",
        "for user_id, true_items in user_item_preferences.items():\n",
        "    top_items = get_item_item_recommendations(\n",
        "      user_id, rating_matrix, item_similarity, businesses_df, n=top_n)\n",
        "    top_items = [i[0] for i in top_items.index]\n",
        "    ar_score = recall(true_items, top_items, top_n)\n",
        "    mean_ar += ar_score\n",
        "\n",
        "mean_ar /= len(user_item_preferences)\n",
        "\n",
        "mean_ar"
      ],
      "metadata": {
        "colab": {
          "base_uri": "https://localhost:8080/"
        },
        "id": "uc0dg1D19sOQ",
        "outputId": "c2971d5f-65fd-4804-d872-a1f7da6deb2b"
      },
      "execution_count": 26,
      "outputs": [
        {
          "output_type": "execute_result",
          "data": {
            "text/plain": [
              "0.30535801222129094"
            ]
          },
          "metadata": {},
          "execution_count": 26
        }
      ]
    },
    {
      "cell_type": "code",
      "source": [],
      "metadata": {
        "id": "MXLjo-7v92vh"
      },
      "execution_count": null,
      "outputs": []
    }
  ]
}