{
  "nbformat": 4,
  "nbformat_minor": 0,
  "metadata": {
    "colab": {
      "provenance": [],
      "machine_shape": "hm"
    },
    "kernelspec": {
      "name": "python3",
      "display_name": "Python 3"
    },
    "language_info": {
      "name": "python"
    },
    "gpuClass": "premium",
    "accelerator": "GPU"
  },
  "cells": [
    {
      "cell_type": "code",
      "source": [
        "!pip install --upgrade scikit-surprise\n",
        "!pip install --upgrade recmetrics"
      ],
      "metadata": {
        "id": "6RAaSUqSIx6H"
      },
      "execution_count": null,
      "outputs": []
    },
    {
      "cell_type": "code",
      "execution_count": 52,
      "metadata": {
        "id": "4EqwRf2HRvt4"
      },
      "outputs": [],
      "source": [
        "from pathlib import Path\n",
        "\n",
        "import pandas as pd\n",
        "from sklearn.preprocessing import LabelEncoder\n",
        "import surprise\n",
        "from surprise import accuracy, SVD, BaselineOnly, KNNWithMeans\n",
        "from surprise.model_selection import train_test_split\n",
        "import recmetrics\n",
        "import numpy as np\n",
        "import matplotlib.pyplot as plt\n",
        "import seaborn as sns\n",
        "\n",
        "data_path = Path(\"/content/drive/MyDrive/merged_data.csv\")"
      ]
    },
    {
      "cell_type": "code",
      "source": [
        "main_df = pd.read_csv(data_path)\n",
        "main_df = main_df[main_df.state.isin(['PA'])] # Top three states: PA, FL, LA"
      ],
      "metadata": {
        "id": "Yq9aGJ1ceBjI"
      },
      "execution_count": 53,
      "outputs": []
    },
    {
      "cell_type": "code",
      "source": [
        "# create a label encoder for user_id and business_id\n",
        "(user_encoder, business_encoder) = (LabelEncoder(), LabelEncoder())\n",
        "\n",
        "# fit the encoders to the data\n",
        "user_encoder.fit(main_df['user_id'])\n",
        "business_encoder.fit(main_df['business_id'])\n",
        "\n",
        "# encode the user_id and business_id columns\n",
        "main_df['user_id_encoded'] = user_encoder.transform(main_df['user_id'])\n",
        "main_df['business_id_encoded'] = business_encoder.transform(main_df['business_id'])\n",
        "\n",
        "main_df.head()"
      ],
      "metadata": {
        "id": "5Du2ZtiZKIj9",
        "colab": {
          "base_uri": "https://localhost:8080/",
          "height": 206
        },
        "outputId": "18ca7c3d-1198-438a-b3e7-14967576a2ef"
      },
      "execution_count": 54,
      "outputs": [
        {
          "output_type": "execute_result",
          "data": {
            "text/plain": [
              "                   user_id             business_id              name state  \\\n",
              "4   s_9uD6zqVU-9cnKO9pDKtg  jMi5SL9vb6nLJGRjw0HK3Q     Civera's Deli    PA   \n",
              "6   JOrDiXIgpb0sjtd7Cr3CdA  RUfWgnSSQKjRNBpK0wSxfg    Isabella Pizza    PA   \n",
              "7   PXywFGVuClrMdFcq5RjsEg  7WWLPXpOjrh_1EvjFuw3hQ  The Drake Tavern    PA   \n",
              "17  FyIoTnxVTbNar4KdG6cC1w  N1a7z4ID9K0Hqz-Zf3V3yw        US Inspect    PA   \n",
              "19  Nro6ABevZFu-8TFDKS-5bw  ctHjyadbDQAtUFfkcAFEHw             Zahav    PA   \n",
              "\n",
              "    stars                                               text  user_id_encoded  \\\n",
              "4       5  Civera's Deli is the cleanest deli in Delco. E...            35748   \n",
              "6       1  Yuck. I ordered here this morning for breakfas...            13018   \n",
              "7       5  Probably the best place to eat in Jenkintown. ...            16808   \n",
              "17      5  I recently had a home inspection with Nate Fel...            10781   \n",
              "19      5  I had the amazing opportunity to eat at Zahab ...            15760   \n",
              "\n",
              "    business_id_encoded  \n",
              "4                 16884  \n",
              "6                 10173  \n",
              "7                  3076  \n",
              "17                 8582  \n",
              "19                14510  "
            ],
            "text/html": [
              "\n",
              "  <div id=\"df-90a7712a-2798-405e-997e-a810135defd4\">\n",
              "    <div class=\"colab-df-container\">\n",
              "      <div>\n",
              "<style scoped>\n",
              "    .dataframe tbody tr th:only-of-type {\n",
              "        vertical-align: middle;\n",
              "    }\n",
              "\n",
              "    .dataframe tbody tr th {\n",
              "        vertical-align: top;\n",
              "    }\n",
              "\n",
              "    .dataframe thead th {\n",
              "        text-align: right;\n",
              "    }\n",
              "</style>\n",
              "<table border=\"1\" class=\"dataframe\">\n",
              "  <thead>\n",
              "    <tr style=\"text-align: right;\">\n",
              "      <th></th>\n",
              "      <th>user_id</th>\n",
              "      <th>business_id</th>\n",
              "      <th>name</th>\n",
              "      <th>state</th>\n",
              "      <th>stars</th>\n",
              "      <th>text</th>\n",
              "      <th>user_id_encoded</th>\n",
              "      <th>business_id_encoded</th>\n",
              "    </tr>\n",
              "  </thead>\n",
              "  <tbody>\n",
              "    <tr>\n",
              "      <th>4</th>\n",
              "      <td>s_9uD6zqVU-9cnKO9pDKtg</td>\n",
              "      <td>jMi5SL9vb6nLJGRjw0HK3Q</td>\n",
              "      <td>Civera's Deli</td>\n",
              "      <td>PA</td>\n",
              "      <td>5</td>\n",
              "      <td>Civera's Deli is the cleanest deli in Delco. E...</td>\n",
              "      <td>35748</td>\n",
              "      <td>16884</td>\n",
              "    </tr>\n",
              "    <tr>\n",
              "      <th>6</th>\n",
              "      <td>JOrDiXIgpb0sjtd7Cr3CdA</td>\n",
              "      <td>RUfWgnSSQKjRNBpK0wSxfg</td>\n",
              "      <td>Isabella Pizza</td>\n",
              "      <td>PA</td>\n",
              "      <td>1</td>\n",
              "      <td>Yuck. I ordered here this morning for breakfas...</td>\n",
              "      <td>13018</td>\n",
              "      <td>10173</td>\n",
              "    </tr>\n",
              "    <tr>\n",
              "      <th>7</th>\n",
              "      <td>PXywFGVuClrMdFcq5RjsEg</td>\n",
              "      <td>7WWLPXpOjrh_1EvjFuw3hQ</td>\n",
              "      <td>The Drake Tavern</td>\n",
              "      <td>PA</td>\n",
              "      <td>5</td>\n",
              "      <td>Probably the best place to eat in Jenkintown. ...</td>\n",
              "      <td>16808</td>\n",
              "      <td>3076</td>\n",
              "    </tr>\n",
              "    <tr>\n",
              "      <th>17</th>\n",
              "      <td>FyIoTnxVTbNar4KdG6cC1w</td>\n",
              "      <td>N1a7z4ID9K0Hqz-Zf3V3yw</td>\n",
              "      <td>US Inspect</td>\n",
              "      <td>PA</td>\n",
              "      <td>5</td>\n",
              "      <td>I recently had a home inspection with Nate Fel...</td>\n",
              "      <td>10781</td>\n",
              "      <td>8582</td>\n",
              "    </tr>\n",
              "    <tr>\n",
              "      <th>19</th>\n",
              "      <td>Nro6ABevZFu-8TFDKS-5bw</td>\n",
              "      <td>ctHjyadbDQAtUFfkcAFEHw</td>\n",
              "      <td>Zahav</td>\n",
              "      <td>PA</td>\n",
              "      <td>5</td>\n",
              "      <td>I had the amazing opportunity to eat at Zahab ...</td>\n",
              "      <td>15760</td>\n",
              "      <td>14510</td>\n",
              "    </tr>\n",
              "  </tbody>\n",
              "</table>\n",
              "</div>\n",
              "      <button class=\"colab-df-convert\" onclick=\"convertToInteractive('df-90a7712a-2798-405e-997e-a810135defd4')\"\n",
              "              title=\"Convert this dataframe to an interactive table.\"\n",
              "              style=\"display:none;\">\n",
              "        \n",
              "  <svg xmlns=\"http://www.w3.org/2000/svg\" height=\"24px\"viewBox=\"0 0 24 24\"\n",
              "       width=\"24px\">\n",
              "    <path d=\"M0 0h24v24H0V0z\" fill=\"none\"/>\n",
              "    <path d=\"M18.56 5.44l.94 2.06.94-2.06 2.06-.94-2.06-.94-.94-2.06-.94 2.06-2.06.94zm-11 1L8.5 8.5l.94-2.06 2.06-.94-2.06-.94L8.5 2.5l-.94 2.06-2.06.94zm10 10l.94 2.06.94-2.06 2.06-.94-2.06-.94-.94-2.06-.94 2.06-2.06.94z\"/><path d=\"M17.41 7.96l-1.37-1.37c-.4-.4-.92-.59-1.43-.59-.52 0-1.04.2-1.43.59L10.3 9.45l-7.72 7.72c-.78.78-.78 2.05 0 2.83L4 21.41c.39.39.9.59 1.41.59.51 0 1.02-.2 1.41-.59l7.78-7.78 2.81-2.81c.8-.78.8-2.07 0-2.86zM5.41 20L4 18.59l7.72-7.72 1.47 1.35L5.41 20z\"/>\n",
              "  </svg>\n",
              "      </button>\n",
              "      \n",
              "  <style>\n",
              "    .colab-df-container {\n",
              "      display:flex;\n",
              "      flex-wrap:wrap;\n",
              "      gap: 12px;\n",
              "    }\n",
              "\n",
              "    .colab-df-convert {\n",
              "      background-color: #E8F0FE;\n",
              "      border: none;\n",
              "      border-radius: 50%;\n",
              "      cursor: pointer;\n",
              "      display: none;\n",
              "      fill: #1967D2;\n",
              "      height: 32px;\n",
              "      padding: 0 0 0 0;\n",
              "      width: 32px;\n",
              "    }\n",
              "\n",
              "    .colab-df-convert:hover {\n",
              "      background-color: #E2EBFA;\n",
              "      box-shadow: 0px 1px 2px rgba(60, 64, 67, 0.3), 0px 1px 3px 1px rgba(60, 64, 67, 0.15);\n",
              "      fill: #174EA6;\n",
              "    }\n",
              "\n",
              "    [theme=dark] .colab-df-convert {\n",
              "      background-color: #3B4455;\n",
              "      fill: #D2E3FC;\n",
              "    }\n",
              "\n",
              "    [theme=dark] .colab-df-convert:hover {\n",
              "      background-color: #434B5C;\n",
              "      box-shadow: 0px 1px 3px 1px rgba(0, 0, 0, 0.15);\n",
              "      filter: drop-shadow(0px 1px 2px rgba(0, 0, 0, 0.3));\n",
              "      fill: #FFFFFF;\n",
              "    }\n",
              "  </style>\n",
              "\n",
              "      <script>\n",
              "        const buttonEl =\n",
              "          document.querySelector('#df-90a7712a-2798-405e-997e-a810135defd4 button.colab-df-convert');\n",
              "        buttonEl.style.display =\n",
              "          google.colab.kernel.accessAllowed ? 'block' : 'none';\n",
              "\n",
              "        async function convertToInteractive(key) {\n",
              "          const element = document.querySelector('#df-90a7712a-2798-405e-997e-a810135defd4');\n",
              "          const dataTable =\n",
              "            await google.colab.kernel.invokeFunction('convertToInteractive',\n",
              "                                                     [key], {});\n",
              "          if (!dataTable) return;\n",
              "\n",
              "          const docLinkHtml = 'Like what you see? Visit the ' +\n",
              "            '<a target=\"_blank\" href=https://colab.research.google.com/notebooks/data_table.ipynb>data table notebook</a>'\n",
              "            + ' to learn more about interactive tables.';\n",
              "          element.innerHTML = '';\n",
              "          dataTable['output_type'] = 'display_data';\n",
              "          await google.colab.output.renderOutput(dataTable, element);\n",
              "          const docLink = document.createElement('div');\n",
              "          docLink.innerHTML = docLinkHtml;\n",
              "          element.appendChild(docLink);\n",
              "        }\n",
              "      </script>\n",
              "    </div>\n",
              "  </div>\n",
              "  "
            ]
          },
          "metadata": {},
          "execution_count": 54
        }
      ]
    },
    {
      "cell_type": "code",
      "source": [
        "# Load the DataFrame into a Surprise Dataset object\n",
        "reader = surprise.Reader(rating_scale=(1, 5))\n",
        "data = surprise.Dataset.load_from_df(main_df[['user_id_encoded', 'business_id_encoded', 'stars']], reader)\n",
        "\n",
        "data.df.head()"
      ],
      "metadata": {
        "colab": {
          "base_uri": "https://localhost:8080/",
          "height": 206
        },
        "id": "uQ5ozZjDJula",
        "outputId": "0d5bd3ff-8809-4c3d-99bd-574aac898e04"
      },
      "execution_count": 55,
      "outputs": [
        {
          "output_type": "execute_result",
          "data": {
            "text/plain": [
              "    user_id_encoded  business_id_encoded  stars\n",
              "4             35748                16884      5\n",
              "6             13018                10173      1\n",
              "7             16808                 3076      5\n",
              "17            10781                 8582      5\n",
              "19            15760                14510      5"
            ],
            "text/html": [
              "\n",
              "  <div id=\"df-4efbe151-90b6-4103-8bf7-6a61861b61d3\">\n",
              "    <div class=\"colab-df-container\">\n",
              "      <div>\n",
              "<style scoped>\n",
              "    .dataframe tbody tr th:only-of-type {\n",
              "        vertical-align: middle;\n",
              "    }\n",
              "\n",
              "    .dataframe tbody tr th {\n",
              "        vertical-align: top;\n",
              "    }\n",
              "\n",
              "    .dataframe thead th {\n",
              "        text-align: right;\n",
              "    }\n",
              "</style>\n",
              "<table border=\"1\" class=\"dataframe\">\n",
              "  <thead>\n",
              "    <tr style=\"text-align: right;\">\n",
              "      <th></th>\n",
              "      <th>user_id_encoded</th>\n",
              "      <th>business_id_encoded</th>\n",
              "      <th>stars</th>\n",
              "    </tr>\n",
              "  </thead>\n",
              "  <tbody>\n",
              "    <tr>\n",
              "      <th>4</th>\n",
              "      <td>35748</td>\n",
              "      <td>16884</td>\n",
              "      <td>5</td>\n",
              "    </tr>\n",
              "    <tr>\n",
              "      <th>6</th>\n",
              "      <td>13018</td>\n",
              "      <td>10173</td>\n",
              "      <td>1</td>\n",
              "    </tr>\n",
              "    <tr>\n",
              "      <th>7</th>\n",
              "      <td>16808</td>\n",
              "      <td>3076</td>\n",
              "      <td>5</td>\n",
              "    </tr>\n",
              "    <tr>\n",
              "      <th>17</th>\n",
              "      <td>10781</td>\n",
              "      <td>8582</td>\n",
              "      <td>5</td>\n",
              "    </tr>\n",
              "    <tr>\n",
              "      <th>19</th>\n",
              "      <td>15760</td>\n",
              "      <td>14510</td>\n",
              "      <td>5</td>\n",
              "    </tr>\n",
              "  </tbody>\n",
              "</table>\n",
              "</div>\n",
              "      <button class=\"colab-df-convert\" onclick=\"convertToInteractive('df-4efbe151-90b6-4103-8bf7-6a61861b61d3')\"\n",
              "              title=\"Convert this dataframe to an interactive table.\"\n",
              "              style=\"display:none;\">\n",
              "        \n",
              "  <svg xmlns=\"http://www.w3.org/2000/svg\" height=\"24px\"viewBox=\"0 0 24 24\"\n",
              "       width=\"24px\">\n",
              "    <path d=\"M0 0h24v24H0V0z\" fill=\"none\"/>\n",
              "    <path d=\"M18.56 5.44l.94 2.06.94-2.06 2.06-.94-2.06-.94-.94-2.06-.94 2.06-2.06.94zm-11 1L8.5 8.5l.94-2.06 2.06-.94-2.06-.94L8.5 2.5l-.94 2.06-2.06.94zm10 10l.94 2.06.94-2.06 2.06-.94-2.06-.94-.94-2.06-.94 2.06-2.06.94z\"/><path d=\"M17.41 7.96l-1.37-1.37c-.4-.4-.92-.59-1.43-.59-.52 0-1.04.2-1.43.59L10.3 9.45l-7.72 7.72c-.78.78-.78 2.05 0 2.83L4 21.41c.39.39.9.59 1.41.59.51 0 1.02-.2 1.41-.59l7.78-7.78 2.81-2.81c.8-.78.8-2.07 0-2.86zM5.41 20L4 18.59l7.72-7.72 1.47 1.35L5.41 20z\"/>\n",
              "  </svg>\n",
              "      </button>\n",
              "      \n",
              "  <style>\n",
              "    .colab-df-container {\n",
              "      display:flex;\n",
              "      flex-wrap:wrap;\n",
              "      gap: 12px;\n",
              "    }\n",
              "\n",
              "    .colab-df-convert {\n",
              "      background-color: #E8F0FE;\n",
              "      border: none;\n",
              "      border-radius: 50%;\n",
              "      cursor: pointer;\n",
              "      display: none;\n",
              "      fill: #1967D2;\n",
              "      height: 32px;\n",
              "      padding: 0 0 0 0;\n",
              "      width: 32px;\n",
              "    }\n",
              "\n",
              "    .colab-df-convert:hover {\n",
              "      background-color: #E2EBFA;\n",
              "      box-shadow: 0px 1px 2px rgba(60, 64, 67, 0.3), 0px 1px 3px 1px rgba(60, 64, 67, 0.15);\n",
              "      fill: #174EA6;\n",
              "    }\n",
              "\n",
              "    [theme=dark] .colab-df-convert {\n",
              "      background-color: #3B4455;\n",
              "      fill: #D2E3FC;\n",
              "    }\n",
              "\n",
              "    [theme=dark] .colab-df-convert:hover {\n",
              "      background-color: #434B5C;\n",
              "      box-shadow: 0px 1px 3px 1px rgba(0, 0, 0, 0.15);\n",
              "      filter: drop-shadow(0px 1px 2px rgba(0, 0, 0, 0.3));\n",
              "      fill: #FFFFFF;\n",
              "    }\n",
              "  </style>\n",
              "\n",
              "      <script>\n",
              "        const buttonEl =\n",
              "          document.querySelector('#df-4efbe151-90b6-4103-8bf7-6a61861b61d3 button.colab-df-convert');\n",
              "        buttonEl.style.display =\n",
              "          google.colab.kernel.accessAllowed ? 'block' : 'none';\n",
              "\n",
              "        async function convertToInteractive(key) {\n",
              "          const element = document.querySelector('#df-4efbe151-90b6-4103-8bf7-6a61861b61d3');\n",
              "          const dataTable =\n",
              "            await google.colab.kernel.invokeFunction('convertToInteractive',\n",
              "                                                     [key], {});\n",
              "          if (!dataTable) return;\n",
              "\n",
              "          const docLinkHtml = 'Like what you see? Visit the ' +\n",
              "            '<a target=\"_blank\" href=https://colab.research.google.com/notebooks/data_table.ipynb>data table notebook</a>'\n",
              "            + ' to learn more about interactive tables.';\n",
              "          element.innerHTML = '';\n",
              "          dataTable['output_type'] = 'display_data';\n",
              "          await google.colab.output.renderOutput(dataTable, element);\n",
              "          const docLink = document.createElement('div');\n",
              "          docLink.innerHTML = docLinkHtml;\n",
              "          element.appendChild(docLink);\n",
              "        }\n",
              "      </script>\n",
              "    </div>\n",
              "  </div>\n",
              "  "
            ]
          },
          "metadata": {},
          "execution_count": 55
        }
      ]
    },
    {
      "cell_type": "code",
      "source": [
        "(len(data.df[\"user_id_encoded\"].unique()), len(data.df[\"business_id_encoded\"].unique()))"
      ],
      "metadata": {
        "colab": {
          "base_uri": "https://localhost:8080/"
        },
        "id": "eLPuBCCBPInB",
        "outputId": "0b0cfc3a-d986-4662-980a-7f4479b372a6"
      },
      "execution_count": 56,
      "outputs": [
        {
          "output_type": "execute_result",
          "data": {
            "text/plain": [
              "(40502, 22984)"
            ]
          },
          "metadata": {},
          "execution_count": 56
        }
      ]
    },
    {
      "cell_type": "code",
      "source": [
        "# Split the data into training and testing sets\n",
        "train, test = train_test_split(data, test_size=0.25)"
      ],
      "metadata": {
        "id": "CGUnn6SjjVjC"
      },
      "execution_count": 57,
      "outputs": []
    },
    {
      "cell_type": "code",
      "source": [
        "(train.n_items, train.n_users)"
      ],
      "metadata": {
        "colab": {
          "base_uri": "https://localhost:8080/"
        },
        "id": "n3L_9aYeKjuf",
        "outputId": "9219e47d-908b-4b45-d66e-1027e852864d"
      },
      "execution_count": 58,
      "outputs": [
        {
          "output_type": "execute_result",
          "data": {
            "text/plain": [
              "(22855, 39537)"
            ]
          },
          "metadata": {},
          "execution_count": 58
        }
      ]
    },
    {
      "cell_type": "code",
      "source": [
        "df_test = pd.DataFrame(test, columns=[\"user_id\", \"business_id\", \"actual\"]).copy().groupby('user_id', as_index=False)['business_id'].agg({'actual': (lambda x: list(set(x)))})\n",
        "df_test = df_test.set_index(\"user_id\")\n",
        "df_test"
      ],
      "metadata": {
        "id": "hXsMJFd4MhVC",
        "colab": {
          "base_uri": "https://localhost:8080/",
          "height": 455
        },
        "outputId": "54b8e979-085e-4452-92c0-abc56c9962a7"
      },
      "execution_count": 59,
      "outputs": [
        {
          "output_type": "execute_result",
          "data": {
            "text/plain": [
              "                                                    actual\n",
              "user_id                                                   \n",
              "0                             [21233, 17445, 12678, 17327]\n",
              "1          [16099, 15116, 21489, 11923, 8026, 9052, 22749]\n",
              "3        [7076, 6024, 7208, 17256, 12012, 16812, 1485, ...\n",
              "4                                           [12349, 18941]\n",
              "5        [15362, 1410, 14543, 12508, 10003, 7380, 17209...\n",
              "...                                                    ...\n",
              "40497                           [3032, 2738, 10408, 13151]\n",
              "40498                         [21965, 21472, 13749, 17166]\n",
              "40499                                       [17915, 16006]\n",
              "40500    [21472, 22853, 7782, 1960, 22571, 11406, 5135,...\n",
              "40501                                              [12503]\n",
              "\n",
              "[34788 rows x 1 columns]"
            ],
            "text/html": [
              "\n",
              "  <div id=\"df-8c3c5389-c19a-4816-b373-abd68b8bc3d5\">\n",
              "    <div class=\"colab-df-container\">\n",
              "      <div>\n",
              "<style scoped>\n",
              "    .dataframe tbody tr th:only-of-type {\n",
              "        vertical-align: middle;\n",
              "    }\n",
              "\n",
              "    .dataframe tbody tr th {\n",
              "        vertical-align: top;\n",
              "    }\n",
              "\n",
              "    .dataframe thead th {\n",
              "        text-align: right;\n",
              "    }\n",
              "</style>\n",
              "<table border=\"1\" class=\"dataframe\">\n",
              "  <thead>\n",
              "    <tr style=\"text-align: right;\">\n",
              "      <th></th>\n",
              "      <th>actual</th>\n",
              "    </tr>\n",
              "    <tr>\n",
              "      <th>user_id</th>\n",
              "      <th></th>\n",
              "    </tr>\n",
              "  </thead>\n",
              "  <tbody>\n",
              "    <tr>\n",
              "      <th>0</th>\n",
              "      <td>[21233, 17445, 12678, 17327]</td>\n",
              "    </tr>\n",
              "    <tr>\n",
              "      <th>1</th>\n",
              "      <td>[16099, 15116, 21489, 11923, 8026, 9052, 22749]</td>\n",
              "    </tr>\n",
              "    <tr>\n",
              "      <th>3</th>\n",
              "      <td>[7076, 6024, 7208, 17256, 12012, 16812, 1485, ...</td>\n",
              "    </tr>\n",
              "    <tr>\n",
              "      <th>4</th>\n",
              "      <td>[12349, 18941]</td>\n",
              "    </tr>\n",
              "    <tr>\n",
              "      <th>5</th>\n",
              "      <td>[15362, 1410, 14543, 12508, 10003, 7380, 17209...</td>\n",
              "    </tr>\n",
              "    <tr>\n",
              "      <th>...</th>\n",
              "      <td>...</td>\n",
              "    </tr>\n",
              "    <tr>\n",
              "      <th>40497</th>\n",
              "      <td>[3032, 2738, 10408, 13151]</td>\n",
              "    </tr>\n",
              "    <tr>\n",
              "      <th>40498</th>\n",
              "      <td>[21965, 21472, 13749, 17166]</td>\n",
              "    </tr>\n",
              "    <tr>\n",
              "      <th>40499</th>\n",
              "      <td>[17915, 16006]</td>\n",
              "    </tr>\n",
              "    <tr>\n",
              "      <th>40500</th>\n",
              "      <td>[21472, 22853, 7782, 1960, 22571, 11406, 5135,...</td>\n",
              "    </tr>\n",
              "    <tr>\n",
              "      <th>40501</th>\n",
              "      <td>[12503]</td>\n",
              "    </tr>\n",
              "  </tbody>\n",
              "</table>\n",
              "<p>34788 rows × 1 columns</p>\n",
              "</div>\n",
              "      <button class=\"colab-df-convert\" onclick=\"convertToInteractive('df-8c3c5389-c19a-4816-b373-abd68b8bc3d5')\"\n",
              "              title=\"Convert this dataframe to an interactive table.\"\n",
              "              style=\"display:none;\">\n",
              "        \n",
              "  <svg xmlns=\"http://www.w3.org/2000/svg\" height=\"24px\"viewBox=\"0 0 24 24\"\n",
              "       width=\"24px\">\n",
              "    <path d=\"M0 0h24v24H0V0z\" fill=\"none\"/>\n",
              "    <path d=\"M18.56 5.44l.94 2.06.94-2.06 2.06-.94-2.06-.94-.94-2.06-.94 2.06-2.06.94zm-11 1L8.5 8.5l.94-2.06 2.06-.94-2.06-.94L8.5 2.5l-.94 2.06-2.06.94zm10 10l.94 2.06.94-2.06 2.06-.94-2.06-.94-.94-2.06-.94 2.06-2.06.94z\"/><path d=\"M17.41 7.96l-1.37-1.37c-.4-.4-.92-.59-1.43-.59-.52 0-1.04.2-1.43.59L10.3 9.45l-7.72 7.72c-.78.78-.78 2.05 0 2.83L4 21.41c.39.39.9.59 1.41.59.51 0 1.02-.2 1.41-.59l7.78-7.78 2.81-2.81c.8-.78.8-2.07 0-2.86zM5.41 20L4 18.59l7.72-7.72 1.47 1.35L5.41 20z\"/>\n",
              "  </svg>\n",
              "      </button>\n",
              "      \n",
              "  <style>\n",
              "    .colab-df-container {\n",
              "      display:flex;\n",
              "      flex-wrap:wrap;\n",
              "      gap: 12px;\n",
              "    }\n",
              "\n",
              "    .colab-df-convert {\n",
              "      background-color: #E8F0FE;\n",
              "      border: none;\n",
              "      border-radius: 50%;\n",
              "      cursor: pointer;\n",
              "      display: none;\n",
              "      fill: #1967D2;\n",
              "      height: 32px;\n",
              "      padding: 0 0 0 0;\n",
              "      width: 32px;\n",
              "    }\n",
              "\n",
              "    .colab-df-convert:hover {\n",
              "      background-color: #E2EBFA;\n",
              "      box-shadow: 0px 1px 2px rgba(60, 64, 67, 0.3), 0px 1px 3px 1px rgba(60, 64, 67, 0.15);\n",
              "      fill: #174EA6;\n",
              "    }\n",
              "\n",
              "    [theme=dark] .colab-df-convert {\n",
              "      background-color: #3B4455;\n",
              "      fill: #D2E3FC;\n",
              "    }\n",
              "\n",
              "    [theme=dark] .colab-df-convert:hover {\n",
              "      background-color: #434B5C;\n",
              "      box-shadow: 0px 1px 3px 1px rgba(0, 0, 0, 0.15);\n",
              "      filter: drop-shadow(0px 1px 2px rgba(0, 0, 0, 0.3));\n",
              "      fill: #FFFFFF;\n",
              "    }\n",
              "  </style>\n",
              "\n",
              "      <script>\n",
              "        const buttonEl =\n",
              "          document.querySelector('#df-8c3c5389-c19a-4816-b373-abd68b8bc3d5 button.colab-df-convert');\n",
              "        buttonEl.style.display =\n",
              "          google.colab.kernel.accessAllowed ? 'block' : 'none';\n",
              "\n",
              "        async function convertToInteractive(key) {\n",
              "          const element = document.querySelector('#df-8c3c5389-c19a-4816-b373-abd68b8bc3d5');\n",
              "          const dataTable =\n",
              "            await google.colab.kernel.invokeFunction('convertToInteractive',\n",
              "                                                     [key], {});\n",
              "          if (!dataTable) return;\n",
              "\n",
              "          const docLinkHtml = 'Like what you see? Visit the ' +\n",
              "            '<a target=\"_blank\" href=https://colab.research.google.com/notebooks/data_table.ipynb>data table notebook</a>'\n",
              "            + ' to learn more about interactive tables.';\n",
              "          element.innerHTML = '';\n",
              "          dataTable['output_type'] = 'display_data';\n",
              "          await google.colab.output.renderOutput(dataTable, element);\n",
              "          const docLink = document.createElement('div');\n",
              "          docLink.innerHTML = docLinkHtml;\n",
              "          element.appendChild(docLink);\n",
              "        }\n",
              "      </script>\n",
              "    </div>\n",
              "  </div>\n",
              "  "
            ]
          },
          "metadata": {},
          "execution_count": 59
        }
      ]
    },
    {
      "cell_type": "markdown",
      "source": [
        "## Generating Random and Popularity based Predictions"
      ],
      "metadata": {
        "id": "bF6vjZjMdfXq"
      }
    },
    {
      "cell_type": "code",
      "source": [
        "#make recommendations for all members in the test data\n",
        "popularity_recs = main_df.business_id_encoded.value_counts().head(10).index.tolist()\n",
        "\n",
        "pop_recs = []\n",
        "for user in df_test.index:\n",
        "    pop_predictions = popularity_recs\n",
        "    pop_recs.append(pop_predictions)\n",
        "        \n",
        "df_test['pop_preds'] = pop_recs"
      ],
      "metadata": {
        "id": "vAzHUpkJdl0t"
      },
      "execution_count": 60,
      "outputs": []
    },
    {
      "cell_type": "code",
      "source": [
        "#make recommendations for all members in the test data\n",
        "ran_recs = []\n",
        "for user in df_test.index:\n",
        "    random_predictions = main_df.business_id_encoded.sample(10).values.tolist()\n",
        "    ran_recs.append(random_predictions)\n",
        "        \n",
        "df_test['random_preds'] = ran_recs"
      ],
      "metadata": {
        "id": "nR_0tIo3dm-F"
      },
      "execution_count": 61,
      "outputs": []
    },
    {
      "cell_type": "markdown",
      "source": [
        "## Training all the models and getting user recommendations"
      ],
      "metadata": {
        "id": "FzA_FJGjTUA0"
      }
    },
    {
      "cell_type": "code",
      "source": [
        "def get_users_predictions(user_id, n, model):\n",
        "    recommended_items = pd.DataFrame(model.loc[user_id])\n",
        "    recommended_items.columns = [\"predicted_rating\"]\n",
        "    recommended_items = recommended_items.sort_values('predicted_rating', ascending=False)    \n",
        "    recommended_items = recommended_items.head(n)\n",
        "    return recommended_items.index.tolist()"
      ],
      "metadata": {
        "id": "EfbD-kHgQFbc"
      },
      "execution_count": 62,
      "outputs": []
    },
    {
      "cell_type": "code",
      "source": [
        "def get_models_preds(algos: list, names: list, n: int) -> pd.DataFrame:\n",
        "  for i, algo in enumerate(algos):\n",
        "    preds = algo.test(test)\n",
        "    df_preds = pd.DataFrame(preds)\n",
        "\n",
        "    model = df_preds.pivot_table(index='uid', columns='iid', values='est').fillna(0)\n",
        "\n",
        "    model_recs = []\n",
        "    for user in df_test.index:\n",
        "        predictions = get_users_predictions(user, n, model)\n",
        "        model_recs.append(predictions)\n",
        "            \n",
        "    df_test[names[i]] = model_recs\n",
        "    del model\n",
        "  \n",
        "  return df_test"
      ],
      "metadata": {
        "id": "1kvwOhM2PTmr"
      },
      "execution_count": 63,
      "outputs": []
    },
    {
      "cell_type": "code",
      "source": [],
      "metadata": {
        "id": "KFxwYbX6PTjw"
      },
      "execution_count": 63,
      "outputs": []
    },
    {
      "cell_type": "code",
      "source": [
        "models = [\n",
        "    BaselineOnly(bsl_options={\"method\": \"sgd\"}).fit(train),\n",
        "    # SVD().fit(train),\n",
        "    # BaselineOnly(bsl_options={\"method\": \"als\"}).fit(train),\n",
        "    # KNNWithMeans(k=40, sim_options={'name': 'cosine', 'user_based': False}).fit(train)\n",
        "]"
      ],
      "metadata": {
        "colab": {
          "base_uri": "https://localhost:8080/"
        },
        "id": "ke2QuZVONG7k",
        "outputId": "d8f9ef78-4675-48c1-8ae0-2b53a7f27d9e"
      },
      "execution_count": 64,
      "outputs": [
        {
          "output_type": "stream",
          "name": "stdout",
          "text": [
            "Estimating biases using sgd...\n"
          ]
        }
      ]
    },
    {
      "cell_type": "code",
      "source": [
        "all_preds = get_models_preds(models, [\n",
        "      \"sgd_preds\",\n",
        "      # \"svd_preds\",\n",
        "      # \"als_preds\",\n",
        "      # \"knn_mean_item_preds\"\n",
        "    ], 10)"
      ],
      "metadata": {
        "id": "xjT1kHPERA0_"
      },
      "execution_count": 65,
      "outputs": []
    },
    {
      "cell_type": "code",
      "source": [
        "actual = all_preds.actual.values.tolist()\n",
        "sgd_preds = all_preds.sgd_preds.values.tolist()\n",
        "pop_preds = all_preds.pop_preds.values.tolist()\n",
        "rand_preds = all_preds.random_preds.values.tolist()"
      ],
      "metadata": {
        "id": "5TRwBaD1PJ0y"
      },
      "execution_count": 66,
      "outputs": []
    },
    {
      "cell_type": "code",
      "source": [
        "def get_mark_scores(actual, model_preds: list):\n",
        "  all_marks = []\n",
        "  for pred in model_preds:\n",
        "    model_mark = []\n",
        "    for K in np.arange(1, 11):\n",
        "        model_mark.extend([recmetrics.mark(actual, pred, k=K)])\n",
        "    all_marks.append(model_mark)\n",
        "\n",
        "  return all_marks"
      ],
      "metadata": {
        "id": "Evrb8EiSU3-8"
      },
      "execution_count": 67,
      "outputs": []
    },
    {
      "cell_type": "code",
      "source": [
        "mark_scores = get_mark_scores(actual, [sgd_preds, pop_preds, rand_preds])\n",
        "index = range(1,10+1)\n",
        "names = ['SGD', 'Popularity', 'Random']\n",
        "\n",
        "fig = plt.figure(figsize=(15, 7))\n",
        "recmetrics.mark_plot(mark_scores, model_names=names, k_range=index)"
      ],
      "metadata": {
        "id": "bUDF_kGcPcAq",
        "colab": {
          "base_uri": "https://localhost:8080/",
          "height": 641
        },
        "outputId": "b5e77a84-9e2b-4c3c-dc03-0d5a6d0f249d"
      },
      "execution_count": 68,
      "outputs": [
        {
          "output_type": "display_data",
          "data": {
            "text/plain": [
              "<Figure size 1500x700 with 1 Axes>"
            ],
            "image/png": "[encoded data removed]"
          },
          "metadata": {}
        }
      ]
    },
    {
      "cell_type": "code",
      "source": [
        "catalog = main_df.business_id.unique().tolist()\n",
        "random_coverage = recmetrics.prediction_coverage(ran_recs, catalog)\n",
        "pop_coverage = recmetrics.prediction_coverage(pop_recs, catalog)\n",
        "sgd_coverage = recmetrics.prediction_coverage(sgd_preds, catalog)"
      ],
      "metadata": {
        "id": "pUiDkQuSg6bT"
      },
      "execution_count": 69,
      "outputs": []
    },
    {
      "cell_type": "code",
      "source": [
        "# plot of prediction coverage\n",
        "coverage_scores = [random_coverage, pop_coverage, sgd_coverage]\n",
        "model_names = ['Random Recommender', 'Popularity Recommender', 'SGD-CF']\n",
        "\n",
        "fig = plt.figure(figsize=(15, 7))\n",
        "recmetrics.coverage_plot(coverage_scores, model_names)"
      ],
      "metadata": {
        "colab": {
          "base_uri": "https://localhost:8080/",
          "height": 622
        },
        "id": "urqUV9XCg5te",
        "outputId": "1a2847b2-31c9-4cd6-e26e-fd127f069607"
      },
      "execution_count": 70,
      "outputs": [
        {
          "output_type": "display_data",
          "data": {
            "text/plain": [
              "<Figure size 1500x700 with 1 Axes>"
            ],
            "image/png": "[encoded data removed]"
          },
          "metadata": {}
        }
      ]
    }
  ]
}