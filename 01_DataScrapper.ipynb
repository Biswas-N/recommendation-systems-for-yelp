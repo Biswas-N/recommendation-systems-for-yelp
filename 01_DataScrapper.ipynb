{
 "cells": [
  {
   "cell_type": "code",
   "execution_count": 1,
   "metadata": {
    "collapsed": false
   },
   "outputs": [],
   "source": [
    "from pyspark.sql import SparkSession\n",
    "\n",
    "import os\n",
    "from pathlib import Path\n",
    "\n",
    "project_dir = Path(os.getcwd())\n",
    "data_dir = project_dir / 'data'"
   ]
  },
  {
   "cell_type": "code",
   "execution_count": 2,
   "metadata": {},
   "outputs": [
    {
     "name": "stdout",
     "output_type": "stream",
     "text": [
      "File Name \t\t\t\t Size in GB\n",
      "yelp_academic_dataset_business.json  \t 0.12 GB\n",
      "yelp_academic_dataset_checkin.json  \t 0.29 GB\n",
      "yelp_academic_dataset_review.json  \t 5.34 GB\n",
      "yelp_academic_dataset_tip.json  \t 0.18 GB\n",
      "yelp_academic_dataset_user.json  \t 3.36 GB\n"
     ]
    }
   ],
   "source": [
    "data_files = list(data_dir.glob('*.json'))\n",
    "\n",
    "print(\"File Name\", '\\t\\t\\t\\t', 'Size in GB')\n",
    "for file in data_files:\n",
    "    print(file.name, ' \\t', round(os.path.getsize(file) / 1e9, 2), 'GB')"
   ]
  },
  {
   "cell_type": "code",
   "execution_count": 3,
   "metadata": {},
   "outputs": [],
   "source": [
    "spark = SparkSession.builder.appName('YelpRecommender').getOrCreate()"
   ]
  },
  {
   "cell_type": "code",
   "execution_count": 10,
   "metadata": {},
   "outputs": [
    {
     "name": "stdout",
     "output_type": "stream",
     "text": [
      "w:\\OU\\OneDrive - University of Oklahoma\\MSinDSA\\Spring-2023\\DSA-5900\\data\\yelp_academic_dataset_review.json\n"
     ]
    }
   ],
   "source": [
    "print(str(data_files[2]))\n",
    "review_df = spark.read.json(str(data_files[2]))"
   ]
  },
  {
   "cell_type": "code",
   "execution_count": 11,
   "metadata": {},
   "outputs": [
    {
     "name": "stdout",
     "output_type": "stream",
     "text": [
      "+--------------------+----+-------------------+-----+--------------------+-----+--------------------+------+--------------------+\n",
      "|         business_id|cool|               date|funny|           review_id|stars|                text|useful|             user_id|\n",
      "+--------------------+----+-------------------+-----+--------------------+-----+--------------------+------+--------------------+\n",
      "|XQfwVwDr-v0ZS3_Cb...|   0|2018-07-07 22:09:11|    0|KU_O5udG6zpxOg-Vc...|  3.0|If you decide to ...|     0|mh_-eMZ6K5RLWhZyI...|\n",
      "|7ATYjTIgM3jUlt4UM...|   1|2012-01-03 15:28:18|    0|BiTunyQ73aT9WBnpR...|  5.0|I've taken a lot ...|     1|OyoGAe7OKpv6SyGZT...|\n",
      "|YjUWPpI6HXG530lwP...|   0|2014-02-05 20:30:30|    0|saUsX_uimxRlCVr67...|  3.0|Family diner. Had...|     0|8g_iMtfSiwikVnbP2...|\n",
      "|kxX2SOes4o-D3ZQBk...|   1|2015-01-04 00:01:03|    0|AqPFMleE6RsU23_au...|  5.0|Wow!  Yummy, diff...|     1|_7bHUi9Uuf5__HHc_...|\n",
      "|e4Vwtrqf-wpJfwesg...|   1|2017-01-14 20:54:15|    0|Sx8TMOWLNuJBWer-0...|  4.0|Cute interior and...|     1|bcjbaE6dDog4jkNY9...|\n",
      "+--------------------+----+-------------------+-----+--------------------+-----+--------------------+------+--------------------+\n",
      "only showing top 5 rows\n",
      "\n"
     ]
    }
   ],
   "source": [
    "# Display the first 5 rows of the DataFrame\n",
    "review_df.show(5)"
   ]
  }
 ],
 "metadata": {
  "kernelspec": {
   "display_name": "dsa-5900-_6tTJzrA-py3.10",
   "language": "python",
   "name": "python3"
  },
  "language_info": {
   "codemirror_mode": {
    "name": "ipython",
    "version": 3
   },
   "file_extension": ".py",
   "mimetype": "text/x-python",
   "name": "python",
   "nbconvert_exporter": "python",
   "pygments_lexer": "ipython3",
   "version": "3.10.4"
  },
  "vscode": {
   "interpreter": {
    "hash": "923fcee6bfc068f935f589b2e4ec895c04cdabbe96713c0144242392fd29fe27"
   }
  }
 },
 "nbformat": 4,
 "nbformat_minor": 0
}
